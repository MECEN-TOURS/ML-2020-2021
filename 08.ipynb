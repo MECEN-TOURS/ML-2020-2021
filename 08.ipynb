{
 "cells": [
  {
   "cell_type": "markdown",
   "metadata": {},
   "source": [
    "# Objectifs \n",
    "\n",
    "Prise en main des fonctionnalité de `scikit-learn` suivants.\n",
    "- Normalisation (`StandardScaler`, `MinMaxScaler`, `MaxAbsScaler`, `RobustScaler`)\n",
    "- Transformation de données catégorielle en quantitative (`LabelEncoder`, `OneHotEncoder`) \n",
    "- Gestion des données manquantes (`SimpleImputer`, `KNNImputer`) \n",
    "- Composition de différentes étapes (`Pipeline`, `ColumnTransformer`, `FeatureUnion`)\n",
    "\n",
    "Mise en oeuvre sur le tableau de données [immobilier](https://raw.githubusercontent.com/VPerrollaz/immobilier/master/donnees/data.tsv) pour obtenir un prédicteur de prix le plus fiable possible."
   ]
  },
  {
   "cell_type": "markdown",
   "metadata": {},
   "source": [
    "1. Charger les données dans un dataframe pandas. (on pourra regarder aussi le module `pathlib` pour explorer les fichiers de manière robuste)\n",
    "2. Explorer les données via pandas : quelles sont les features, y-a-t il beaucoup de NaN, quelles sont les variables importantes, quelles sont leurs types, quelles sont les plages de variations.\n",
    "3. En déduire des pipelines sklearn (avec preprocessing et algorithme) avant de choisir le meilleur par crossvalidation."
   ]
  },
  {
   "cell_type": "markdown",
   "metadata": {},
   "source": [
    "# Chargement avec pandas"
   ]
  },
  {
   "cell_type": "code",
   "execution_count": 1,
   "metadata": {},
   "outputs": [],
   "source": [
    "import pandas as pd"
   ]
  },
  {
   "cell_type": "code",
   "execution_count": 2,
   "metadata": {},
   "outputs": [],
   "source": [
    "donnees = pd.read_csv(\"https://raw.githubusercontent.com/VPerrollaz/immobilier/master/donnees/data.tsv\", sep=\"\\t\")"
   ]
  },
  {
   "cell_type": "code",
   "execution_count": 3,
   "metadata": {},
   "outputs": [
    {
     "data": {
      "text/html": [
       "<div>\n",
       "<style scoped>\n",
       "    .dataframe tbody tr th:only-of-type {\n",
       "        vertical-align: middle;\n",
       "    }\n",
       "\n",
       "    .dataframe tbody tr th {\n",
       "        vertical-align: top;\n",
       "    }\n",
       "\n",
       "    .dataframe thead th {\n",
       "        text-align: right;\n",
       "    }\n",
       "</style>\n",
       "<table border=\"1\" class=\"dataframe\">\n",
       "  <thead>\n",
       "    <tr style=\"text-align: right;\">\n",
       "      <th></th>\n",
       "      <th>Neuf</th>\n",
       "      <th>Surface</th>\n",
       "      <th>Pieces</th>\n",
       "      <th>Prix</th>\n",
       "    </tr>\n",
       "  </thead>\n",
       "  <tbody>\n",
       "    <tr>\n",
       "      <th>count</th>\n",
       "      <td>1647.000000</td>\n",
       "      <td>1639.000000</td>\n",
       "      <td>1646.000000</td>\n",
       "      <td>1.646000e+03</td>\n",
       "    </tr>\n",
       "    <tr>\n",
       "      <th>mean</th>\n",
       "      <td>0.138434</td>\n",
       "      <td>97.953392</td>\n",
       "      <td>4.047388</td>\n",
       "      <td>2.621814e+05</td>\n",
       "    </tr>\n",
       "    <tr>\n",
       "      <th>std</th>\n",
       "      <td>0.345459</td>\n",
       "      <td>82.332672</td>\n",
       "      <td>2.436838</td>\n",
       "      <td>2.666522e+05</td>\n",
       "    </tr>\n",
       "    <tr>\n",
       "      <th>min</th>\n",
       "      <td>0.000000</td>\n",
       "      <td>11.960000</td>\n",
       "      <td>1.000000</td>\n",
       "      <td>2.980000e+04</td>\n",
       "    </tr>\n",
       "    <tr>\n",
       "      <th>25%</th>\n",
       "      <td>0.000000</td>\n",
       "      <td>57.205000</td>\n",
       "      <td>3.000000</td>\n",
       "      <td>1.225000e+05</td>\n",
       "    </tr>\n",
       "    <tr>\n",
       "      <th>50%</th>\n",
       "      <td>0.000000</td>\n",
       "      <td>73.190000</td>\n",
       "      <td>3.000000</td>\n",
       "      <td>1.796735e+05</td>\n",
       "    </tr>\n",
       "    <tr>\n",
       "      <th>75%</th>\n",
       "      <td>0.000000</td>\n",
       "      <td>108.000000</td>\n",
       "      <td>5.000000</td>\n",
       "      <td>2.941500e+05</td>\n",
       "    </tr>\n",
       "    <tr>\n",
       "      <th>max</th>\n",
       "      <td>1.000000</td>\n",
       "      <td>1400.000000</td>\n",
       "      <td>25.000000</td>\n",
       "      <td>5.596080e+06</td>\n",
       "    </tr>\n",
       "  </tbody>\n",
       "</table>\n",
       "</div>"
      ],
      "text/plain": [
       "              Neuf      Surface       Pieces          Prix\n",
       "count  1647.000000  1639.000000  1646.000000  1.646000e+03\n",
       "mean      0.138434    97.953392     4.047388  2.621814e+05\n",
       "std       0.345459    82.332672     2.436838  2.666522e+05\n",
       "min       0.000000    11.960000     1.000000  2.980000e+04\n",
       "25%       0.000000    57.205000     3.000000  1.225000e+05\n",
       "50%       0.000000    73.190000     3.000000  1.796735e+05\n",
       "75%       0.000000   108.000000     5.000000  2.941500e+05\n",
       "max       1.000000  1400.000000    25.000000  5.596080e+06"
      ]
     },
     "execution_count": 3,
     "metadata": {},
     "output_type": "execute_result"
    }
   ],
   "source": [
    "donnees.describe()"
   ]
  },
  {
   "cell_type": "code",
   "execution_count": 4,
   "metadata": {},
   "outputs": [
    {
     "data": {
      "text/html": [
       "<div>\n",
       "<style scoped>\n",
       "    .dataframe tbody tr th:only-of-type {\n",
       "        vertical-align: middle;\n",
       "    }\n",
       "\n",
       "    .dataframe tbody tr th {\n",
       "        vertical-align: top;\n",
       "    }\n",
       "\n",
       "    .dataframe thead th {\n",
       "        text-align: right;\n",
       "    }\n",
       "</style>\n",
       "<table border=\"1\" class=\"dataframe\">\n",
       "  <thead>\n",
       "    <tr style=\"text-align: right;\">\n",
       "      <th></th>\n",
       "      <th>Id</th>\n",
       "      <th>Genre</th>\n",
       "      <th>Neuf</th>\n",
       "      <th>Surface</th>\n",
       "      <th>Pieces</th>\n",
       "      <th>Quartier</th>\n",
       "      <th>Prix</th>\n",
       "    </tr>\n",
       "  </thead>\n",
       "  <tbody>\n",
       "    <tr>\n",
       "      <th>0</th>\n",
       "      <td>annonce-138905473-376235</td>\n",
       "      <td>Appartement</td>\n",
       "      <td>0</td>\n",
       "      <td>90.00</td>\n",
       "      <td>3.0</td>\n",
       "      <td>cathédrale</td>\n",
       "      <td>374400.0</td>\n",
       "    </tr>\n",
       "    <tr>\n",
       "      <th>1</th>\n",
       "      <td>annonce-140620177-376235</td>\n",
       "      <td>Appartement</td>\n",
       "      <td>0</td>\n",
       "      <td>146.27</td>\n",
       "      <td>5.0</td>\n",
       "      <td>sud</td>\n",
       "      <td>499200.0</td>\n",
       "    </tr>\n",
       "    <tr>\n",
       "      <th>2</th>\n",
       "      <td>annonce-140620179-376235</td>\n",
       "      <td>Appartement</td>\n",
       "      <td>0</td>\n",
       "      <td>110.00</td>\n",
       "      <td>5.0</td>\n",
       "      <td>prébendes</td>\n",
       "      <td>499200.0</td>\n",
       "    </tr>\n",
       "    <tr>\n",
       "      <th>3</th>\n",
       "      <td>annonce-133494153-376235</td>\n",
       "      <td>Maison</td>\n",
       "      <td>0</td>\n",
       "      <td>132.00</td>\n",
       "      <td>6.0</td>\n",
       "      <td>prébendes</td>\n",
       "      <td>508000.0</td>\n",
       "    </tr>\n",
       "    <tr>\n",
       "      <th>4</th>\n",
       "      <td>annonce-137425993-376235</td>\n",
       "      <td>Maison</td>\n",
       "      <td>0</td>\n",
       "      <td>185.00</td>\n",
       "      <td>7.0</td>\n",
       "      <td>strasbourg</td>\n",
       "      <td>676000.0</td>\n",
       "    </tr>\n",
       "  </tbody>\n",
       "</table>\n",
       "</div>"
      ],
      "text/plain": [
       "                         Id        Genre  Neuf  Surface  Pieces    Quartier  \\\n",
       "0  annonce-138905473-376235  Appartement     0    90.00     3.0  cathédrale   \n",
       "1  annonce-140620177-376235  Appartement     0   146.27     5.0         sud   \n",
       "2  annonce-140620179-376235  Appartement     0   110.00     5.0   prébendes   \n",
       "3  annonce-133494153-376235       Maison     0   132.00     6.0   prébendes   \n",
       "4  annonce-137425993-376235       Maison     0   185.00     7.0  strasbourg   \n",
       "\n",
       "       Prix  \n",
       "0  374400.0  \n",
       "1  499200.0  \n",
       "2  499200.0  \n",
       "3  508000.0  \n",
       "4  676000.0  "
      ]
     },
     "execution_count": 4,
     "metadata": {},
     "output_type": "execute_result"
    }
   ],
   "source": [
    "donnees.head()"
   ]
  },
  {
   "cell_type": "markdown",
   "metadata": {},
   "source": [
    "**ATTENTION**\n",
    "Pour les versions et les identifiants même si on n'utilise que des chiffres on utilise le type `str` pour éviter les erreurs d'arrondis si jamais ils sont interprétés comme `float`."
   ]
  },
  {
   "cell_type": "code",
   "execution_count": 5,
   "metadata": {},
   "outputs": [
    {
     "data": {
      "text/plain": [
       "Id           object\n",
       "Genre        object\n",
       "Neuf          int64\n",
       "Surface     float64\n",
       "Pieces      float64\n",
       "Quartier     object\n",
       "Prix        float64\n",
       "dtype: object"
      ]
     },
     "execution_count": 5,
     "metadata": {},
     "output_type": "execute_result"
    }
   ],
   "source": [
    "donnees.dtypes"
   ]
  },
  {
   "cell_type": "markdown",
   "metadata": {},
   "source": [
    "# Premières modifications et Exploration avec Pandas"
   ]
  },
  {
   "cell_type": "markdown",
   "metadata": {},
   "source": [
    "**Modifications**\n",
    "\n",
    "- Supprimer les éventuels doublons\n",
    "- Attribuer les bons types aux colonnes."
   ]
  },
  {
   "cell_type": "markdown",
   "metadata": {},
   "source": [
    "**Remarque** \n",
    "\n",
    "- L'API de `pandas` est gigantesque et peu \"*découvrable*\" on pourra commencer par se concentrer sur la [cheatsheet](https://pandas.pydata.org/Pandas_Cheat_Sheet.pdf) \n",
    "- On pourrait utiliser la librairie [`pyjanitor`](https://pyjanitor.readthedocs.io/)"
   ]
  },
  {
   "cell_type": "code",
   "execution_count": 6,
   "metadata": {},
   "outputs": [
    {
     "data": {
      "text/plain": [
       "Id           string\n",
       "Genre        string\n",
       "Neuf          Int64\n",
       "Surface     float64\n",
       "Pieces        Int64\n",
       "Quartier     string\n",
       "Prix          Int64\n",
       "dtype: object"
      ]
     },
     "execution_count": 6,
     "metadata": {},
     "output_type": "execute_result"
    }
   ],
   "source": [
    "donnees = donnees.convert_dtypes()\n",
    "donnees.dtypes"
   ]
  },
  {
   "cell_type": "markdown",
   "metadata": {},
   "source": [
    "On pourrait vouloir forcer la conversion de la colonne `Surface` en `Int`."
   ]
  },
  {
   "cell_type": "code",
   "execution_count": 7,
   "metadata": {},
   "outputs": [],
   "source": [
    "#donnees.Surface = donnees.Surface.apply(int)"
   ]
  },
  {
   "cell_type": "markdown",
   "metadata": {},
   "source": [
    "**ATTENTION** en python `NaN` est forcément un flottant..."
   ]
  },
  {
   "cell_type": "markdown",
   "metadata": {},
   "source": [
    "**Remarque** on aurait pu utiliser une méthode spécifique pour les types : `astype`."
   ]
  },
  {
   "cell_type": "code",
   "execution_count": 8,
   "metadata": {},
   "outputs": [
    {
     "data": {
      "text/plain": [
       "Index(['Genre', 'Neuf', 'Surface', 'Pieces', 'Quartier', 'Prix'], dtype='object')"
      ]
     },
     "execution_count": 8,
     "metadata": {},
     "output_type": "execute_result"
    }
   ],
   "source": [
    "donnees = donnees.drop_duplicates().drop(axis=1, labels=\"Id\")\n",
    "donnees.columns"
   ]
  },
  {
   "cell_type": "markdown",
   "metadata": {},
   "source": [
    "# Numériser les colonnes"
   ]
  },
  {
   "cell_type": "code",
   "execution_count": 9,
   "metadata": {},
   "outputs": [
    {
     "data": {
      "text/plain": [
       "Genre        string\n",
       "Neuf          Int64\n",
       "Surface     float64\n",
       "Pieces        Int64\n",
       "Quartier     string\n",
       "Prix          Int64\n",
       "dtype: object"
      ]
     },
     "execution_count": 9,
     "metadata": {},
     "output_type": "execute_result"
    }
   ],
   "source": [
    "donnees.dtypes"
   ]
  },
  {
   "cell_type": "code",
   "execution_count": 12,
   "metadata": {},
   "outputs": [
    {
     "data": {
      "text/plain": [
       "Appartement    1241\n",
       "Maison          392\n",
       "Name: Genre, dtype: Int64"
      ]
     },
     "execution_count": 12,
     "metadata": {},
     "output_type": "execute_result"
    }
   ],
   "source": [
    "donnees.Genre.value_counts()"
   ]
  },
  {
   "cell_type": "code",
   "execution_count": 13,
   "metadata": {},
   "outputs": [
    {
     "data": {
      "text/plain": [
       "Genre         int64\n",
       "Neuf          Int64\n",
       "Surface     float64\n",
       "Pieces        Int64\n",
       "Quartier     string\n",
       "Prix          Int64\n",
       "dtype: object"
      ]
     },
     "execution_count": 13,
     "metadata": {},
     "output_type": "execute_result"
    }
   ],
   "source": [
    "def filtre(genre):\n",
    "    if genre == \"Appartement\":\n",
    "        return 0\n",
    "    elif genre == \"Maison\":\n",
    "        return 1\n",
    "donnees.Genre = donnees.Genre.apply(filtre)\n",
    "donnees.dtypes"
   ]
  },
  {
   "cell_type": "markdown",
   "metadata": {},
   "source": [
    "# Regarder les valeurs manquantes "
   ]
  },
  {
   "cell_type": "code",
   "execution_count": 14,
   "metadata": {},
   "outputs": [
    {
     "data": {
      "text/plain": [
       "Genre       1633\n",
       "Neuf        1633\n",
       "Surface     1625\n",
       "Pieces      1632\n",
       "Quartier     948\n",
       "Prix        1632\n",
       "dtype: int64"
      ]
     },
     "execution_count": 14,
     "metadata": {},
     "output_type": "execute_result"
    }
   ],
   "source": [
    "donnees.count()"
   ]
  },
  {
   "cell_type": "markdown",
   "metadata": {},
   "source": [
    "1. On va dégager les annonces problématiques pour les variables `Surface`, `Pieces` et `Prix` car ça ne modifie quasiment pas la taille de l'échantillon.\n",
    "2. Pour `Quartier` il va falloir être plus prudent. On pourra supprimer les lignes non remplies (mais ça diminue beaucoup l'échantillon), on pourra remplir avec un quartier artificiel, on pourra une fois appliqué `OneHotEncoder` remplir numériquement suivant la probabilité d'être dans un quartier, on peut finalement éliminer la colonne `Quartier`. Ces choix constitueront une étape pour lesquelles on sélectionnera par cross-validation."
   ]
  },
  {
   "cell_type": "code",
   "execution_count": 15,
   "metadata": {},
   "outputs": [
    {
     "data": {
      "text/plain": [
       "Genre       1625\n",
       "Neuf        1625\n",
       "Surface     1625\n",
       "Pieces      1625\n",
       "Quartier     944\n",
       "Prix        1625\n",
       "dtype: int64"
      ]
     },
     "execution_count": 15,
     "metadata": {},
     "output_type": "execute_result"
    }
   ],
   "source": [
    "donnees = donnees.dropna(axis=0, subset=[\"Surface\", \"Pieces\", \"Prix\"])\n",
    "donnees.count()"
   ]
  },
  {
   "cell_type": "code",
   "execution_count": 16,
   "metadata": {},
   "outputs": [
    {
     "data": {
      "text/plain": [
       "Index(['Genre', 'Neuf', 'Surface', 'Pieces', 'Prix'], dtype='object')"
      ]
     },
     "execution_count": 16,
     "metadata": {},
     "output_type": "execute_result"
    }
   ],
   "source": [
    "donnees_sans_quartier = donnees.drop(axis=1, labels=\"Quartier\")\n",
    "donnees_sans_quartier.columns"
   ]
  },
  {
   "cell_type": "code",
   "execution_count": 17,
   "metadata": {},
   "outputs": [
    {
     "data": {
      "text/plain": [
       "Genre       944\n",
       "Neuf        944\n",
       "Surface     944\n",
       "Pieces      944\n",
       "Quartier    944\n",
       "Prix        944\n",
       "dtype: int64"
      ]
     },
     "execution_count": 17,
     "metadata": {},
     "output_type": "execute_result"
    }
   ],
   "source": [
    "donnees_avec_quartier = donnees.dropna(axis=0)\n",
    "donnees_avec_quartier.count()"
   ]
  },
  {
   "cell_type": "code",
   "execution_count": 18,
   "metadata": {},
   "outputs": [
    {
     "name": "stdout",
     "output_type": "stream",
     "text": [
      "Genre       1625\n",
      "Neuf        1625\n",
      "Surface     1625\n",
      "Pieces      1625\n",
      "Quartier    1625\n",
      "Prix        1625\n",
      "dtype: int64\n"
     ]
    },
    {
     "data": {
      "text/plain": [
       "Fictif           681\n",
       "nord             180\n",
       "centre           161\n",
       "cher              90\n",
       "sud               90\n",
       "halles            63\n",
       "prébendes         61\n",
       "gare              51\n",
       "velpeau           36\n",
       "cathédrale        35\n",
       "beaujardin        28\n",
       "portes            19\n",
       "2 lions           18\n",
       "radegonde         18\n",
       "febvotte          15\n",
       "strasbourg        14\n",
       "tranchée          12\n",
       "montjoyeux        12\n",
       "paul bert         10\n",
       "heurteloup         9\n",
       "eloi               5\n",
       "mairie             4\n",
       "conservatoire      4\n",
       "cluzel             3\n",
       "fontaines          3\n",
       "béranger           2\n",
       "rotonde            1\n",
       "Name: Quartier, dtype: Int64"
      ]
     },
     "execution_count": 18,
     "metadata": {},
     "output_type": "execute_result"
    }
   ],
   "source": [
    "donnees_quartier_artificiel = donnees.fillna(value={\"Quartier\": \"Fictif\"})\n",
    "print(donnees_quartier_artificiel.count())\n",
    "donnees_quartier_artificiel.Quartier.value_counts()"
   ]
  },
  {
   "cell_type": "code",
   "execution_count": 19,
   "metadata": {},
   "outputs": [],
   "source": [
    "donnees_quartier_probabiliste = ..."
   ]
  },
  {
   "cell_type": "markdown",
   "metadata": {},
   "source": [
    "# Identifier les variables numériques importantes."
   ]
  },
  {
   "cell_type": "code",
   "execution_count": null,
   "metadata": {},
   "outputs": [],
   "source": []
  }
 ],
 "metadata": {
  "kernelspec": {
   "display_name": "Python 3",
   "language": "python",
   "name": "python3"
  },
  "language_info": {
   "codemirror_mode": {
    "name": "ipython",
    "version": 3
   },
   "file_extension": ".py",
   "mimetype": "text/x-python",
   "name": "python",
   "nbconvert_exporter": "python",
   "pygments_lexer": "ipython3",
   "version": "3.8.3"
  }
 },
 "nbformat": 4,
 "nbformat_minor": 4
}
