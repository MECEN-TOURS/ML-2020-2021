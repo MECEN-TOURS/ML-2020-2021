{
 "cells": [
  {
   "cell_type": "markdown",
   "metadata": {},
   "source": [
    "# Objectifs \n",
    "\n",
    "Prise en main des fonctionnalité de `scikit-learn` suivants.\n",
    "- Normalisation (`StandardScaler`, `MinMaxScaler`, `MaxAbsScaler`, `RobustScaler`)\n",
    "- Transformation de données catégorielle en quantitative (`LabelEncoder`, `OneHotEncoder`) \n",
    "- Gestion des données manquantes (`SimpleImputer`, `KNNImputer`) \n",
    "- Composition de différentes étapes (`Pipeline`, `ColumnTransformer`, `FeatureUnion`)\n",
    "\n",
    "Mise en oeuvre sur le tableau de données [immobilier](https://raw.githubusercontent.com/VPerrollaz/immobilier/master/donnees/data.tsv) pour obtenir un prédicteur de prix le plus fiable possible."
   ]
  },
  {
   "cell_type": "markdown",
   "metadata": {},
   "source": [
    "1. Charger les données dans un dataframe pandas. (on pourra regarder aussi le module `pathlib` pour explorer les fichiers de manière robuste)\n",
    "2. Explorer les données via pandas : quelles sont les features, y-a-t il beaucoup de NaN, quelles sont les variables importantes, quelles sont leurs types, quelles sont les plages de variations.\n",
    "3. En déduire des pipelines sklearn (avec preprocessing et algorithme) avant de choisir le meilleur par crossvalidation."
   ]
  },
  {
   "cell_type": "markdown",
   "metadata": {},
   "source": [
    "# Chargement avec pandas"
   ]
  },
  {
   "cell_type": "code",
   "execution_count": 1,
   "metadata": {},
   "outputs": [],
   "source": [
    "import pandas as pd"
   ]
  },
  {
   "cell_type": "code",
   "execution_count": 2,
   "metadata": {},
   "outputs": [],
   "source": [
    "donnees = pd.read_csv(\"https://raw.githubusercontent.com/VPerrollaz/immobilier/master/donnees/data.tsv\", sep=\"\\t\")"
   ]
  },
  {
   "cell_type": "code",
   "execution_count": 3,
   "metadata": {},
   "outputs": [
    {
     "data": {
      "text/html": [
       "<div>\n",
       "<style scoped>\n",
       "    .dataframe tbody tr th:only-of-type {\n",
       "        vertical-align: middle;\n",
       "    }\n",
       "\n",
       "    .dataframe tbody tr th {\n",
       "        vertical-align: top;\n",
       "    }\n",
       "\n",
       "    .dataframe thead th {\n",
       "        text-align: right;\n",
       "    }\n",
       "</style>\n",
       "<table border=\"1\" class=\"dataframe\">\n",
       "  <thead>\n",
       "    <tr style=\"text-align: right;\">\n",
       "      <th></th>\n",
       "      <th>Neuf</th>\n",
       "      <th>Surface</th>\n",
       "      <th>Pieces</th>\n",
       "      <th>Prix</th>\n",
       "    </tr>\n",
       "  </thead>\n",
       "  <tbody>\n",
       "    <tr>\n",
       "      <th>count</th>\n",
       "      <td>1647.000000</td>\n",
       "      <td>1639.000000</td>\n",
       "      <td>1646.000000</td>\n",
       "      <td>1.646000e+03</td>\n",
       "    </tr>\n",
       "    <tr>\n",
       "      <th>mean</th>\n",
       "      <td>0.138434</td>\n",
       "      <td>97.953392</td>\n",
       "      <td>4.047388</td>\n",
       "      <td>2.621814e+05</td>\n",
       "    </tr>\n",
       "    <tr>\n",
       "      <th>std</th>\n",
       "      <td>0.345459</td>\n",
       "      <td>82.332672</td>\n",
       "      <td>2.436838</td>\n",
       "      <td>2.666522e+05</td>\n",
       "    </tr>\n",
       "    <tr>\n",
       "      <th>min</th>\n",
       "      <td>0.000000</td>\n",
       "      <td>11.960000</td>\n",
       "      <td>1.000000</td>\n",
       "      <td>2.980000e+04</td>\n",
       "    </tr>\n",
       "    <tr>\n",
       "      <th>25%</th>\n",
       "      <td>0.000000</td>\n",
       "      <td>57.205000</td>\n",
       "      <td>3.000000</td>\n",
       "      <td>1.225000e+05</td>\n",
       "    </tr>\n",
       "    <tr>\n",
       "      <th>50%</th>\n",
       "      <td>0.000000</td>\n",
       "      <td>73.190000</td>\n",
       "      <td>3.000000</td>\n",
       "      <td>1.796735e+05</td>\n",
       "    </tr>\n",
       "    <tr>\n",
       "      <th>75%</th>\n",
       "      <td>0.000000</td>\n",
       "      <td>108.000000</td>\n",
       "      <td>5.000000</td>\n",
       "      <td>2.941500e+05</td>\n",
       "    </tr>\n",
       "    <tr>\n",
       "      <th>max</th>\n",
       "      <td>1.000000</td>\n",
       "      <td>1400.000000</td>\n",
       "      <td>25.000000</td>\n",
       "      <td>5.596080e+06</td>\n",
       "    </tr>\n",
       "  </tbody>\n",
       "</table>\n",
       "</div>"
      ],
      "text/plain": [
       "              Neuf      Surface       Pieces          Prix\n",
       "count  1647.000000  1639.000000  1646.000000  1.646000e+03\n",
       "mean      0.138434    97.953392     4.047388  2.621814e+05\n",
       "std       0.345459    82.332672     2.436838  2.666522e+05\n",
       "min       0.000000    11.960000     1.000000  2.980000e+04\n",
       "25%       0.000000    57.205000     3.000000  1.225000e+05\n",
       "50%       0.000000    73.190000     3.000000  1.796735e+05\n",
       "75%       0.000000   108.000000     5.000000  2.941500e+05\n",
       "max       1.000000  1400.000000    25.000000  5.596080e+06"
      ]
     },
     "execution_count": 3,
     "metadata": {},
     "output_type": "execute_result"
    }
   ],
   "source": [
    "donnees.describe()"
   ]
  },
  {
   "cell_type": "code",
   "execution_count": 4,
   "metadata": {},
   "outputs": [
    {
     "data": {
      "text/html": [
       "<div>\n",
       "<style scoped>\n",
       "    .dataframe tbody tr th:only-of-type {\n",
       "        vertical-align: middle;\n",
       "    }\n",
       "\n",
       "    .dataframe tbody tr th {\n",
       "        vertical-align: top;\n",
       "    }\n",
       "\n",
       "    .dataframe thead th {\n",
       "        text-align: right;\n",
       "    }\n",
       "</style>\n",
       "<table border=\"1\" class=\"dataframe\">\n",
       "  <thead>\n",
       "    <tr style=\"text-align: right;\">\n",
       "      <th></th>\n",
       "      <th>Id</th>\n",
       "      <th>Genre</th>\n",
       "      <th>Neuf</th>\n",
       "      <th>Surface</th>\n",
       "      <th>Pieces</th>\n",
       "      <th>Quartier</th>\n",
       "      <th>Prix</th>\n",
       "    </tr>\n",
       "  </thead>\n",
       "  <tbody>\n",
       "    <tr>\n",
       "      <th>0</th>\n",
       "      <td>annonce-138905473-376235</td>\n",
       "      <td>Appartement</td>\n",
       "      <td>0</td>\n",
       "      <td>90.00</td>\n",
       "      <td>3.0</td>\n",
       "      <td>cathédrale</td>\n",
       "      <td>374400.0</td>\n",
       "    </tr>\n",
       "    <tr>\n",
       "      <th>1</th>\n",
       "      <td>annonce-140620177-376235</td>\n",
       "      <td>Appartement</td>\n",
       "      <td>0</td>\n",
       "      <td>146.27</td>\n",
       "      <td>5.0</td>\n",
       "      <td>sud</td>\n",
       "      <td>499200.0</td>\n",
       "    </tr>\n",
       "    <tr>\n",
       "      <th>2</th>\n",
       "      <td>annonce-140620179-376235</td>\n",
       "      <td>Appartement</td>\n",
       "      <td>0</td>\n",
       "      <td>110.00</td>\n",
       "      <td>5.0</td>\n",
       "      <td>prébendes</td>\n",
       "      <td>499200.0</td>\n",
       "    </tr>\n",
       "    <tr>\n",
       "      <th>3</th>\n",
       "      <td>annonce-133494153-376235</td>\n",
       "      <td>Maison</td>\n",
       "      <td>0</td>\n",
       "      <td>132.00</td>\n",
       "      <td>6.0</td>\n",
       "      <td>prébendes</td>\n",
       "      <td>508000.0</td>\n",
       "    </tr>\n",
       "    <tr>\n",
       "      <th>4</th>\n",
       "      <td>annonce-137425993-376235</td>\n",
       "      <td>Maison</td>\n",
       "      <td>0</td>\n",
       "      <td>185.00</td>\n",
       "      <td>7.0</td>\n",
       "      <td>strasbourg</td>\n",
       "      <td>676000.0</td>\n",
       "    </tr>\n",
       "  </tbody>\n",
       "</table>\n",
       "</div>"
      ],
      "text/plain": [
       "                         Id        Genre  Neuf  Surface  Pieces    Quartier  \\\n",
       "0  annonce-138905473-376235  Appartement     0    90.00     3.0  cathédrale   \n",
       "1  annonce-140620177-376235  Appartement     0   146.27     5.0         sud   \n",
       "2  annonce-140620179-376235  Appartement     0   110.00     5.0   prébendes   \n",
       "3  annonce-133494153-376235       Maison     0   132.00     6.0   prébendes   \n",
       "4  annonce-137425993-376235       Maison     0   185.00     7.0  strasbourg   \n",
       "\n",
       "       Prix  \n",
       "0  374400.0  \n",
       "1  499200.0  \n",
       "2  499200.0  \n",
       "3  508000.0  \n",
       "4  676000.0  "
      ]
     },
     "execution_count": 4,
     "metadata": {},
     "output_type": "execute_result"
    }
   ],
   "source": [
    "donnees.head()"
   ]
  },
  {
   "cell_type": "markdown",
   "metadata": {},
   "source": [
    "**ATTENTION**\n",
    "Pour les versions et les identifiants même si on n'utilise que des chiffres on utilise le type `str` pour éviter les erreurs d'arrondis si jamais ils sont interprétés comme `float`."
   ]
  },
  {
   "cell_type": "code",
   "execution_count": 5,
   "metadata": {},
   "outputs": [
    {
     "data": {
      "text/plain": [
       "Id           object\n",
       "Genre        object\n",
       "Neuf          int64\n",
       "Surface     float64\n",
       "Pieces      float64\n",
       "Quartier     object\n",
       "Prix        float64\n",
       "dtype: object"
      ]
     },
     "execution_count": 5,
     "metadata": {},
     "output_type": "execute_result"
    }
   ],
   "source": [
    "donnees.dtypes"
   ]
  },
  {
   "cell_type": "markdown",
   "metadata": {},
   "source": [
    "# Premières modifications et Exploration avec Pandas"
   ]
  },
  {
   "cell_type": "markdown",
   "metadata": {},
   "source": [
    "**Modifications**\n",
    "\n",
    "- Supprimer les éventuels doublons\n",
    "- Attribuer les bons types aux colonnes."
   ]
  },
  {
   "cell_type": "markdown",
   "metadata": {},
   "source": [
    "**Remarque** \n",
    "\n",
    "- L'API de `pandas` est gigantesque et peu \"*découvrable*\" on pourra commencer par se concentrer sur la [cheatsheet](https://pandas.pydata.org/Pandas_Cheat_Sheet.pdf) \n",
    "- On pourrait utiliser la librairie [`pyjanitor`](https://pyjanitor.readthedocs.io/)"
   ]
  },
  {
   "cell_type": "code",
   "execution_count": 6,
   "metadata": {},
   "outputs": [
    {
     "data": {
      "text/plain": [
       "Id           string\n",
       "Genre        string\n",
       "Neuf          Int64\n",
       "Surface     float64\n",
       "Pieces        Int64\n",
       "Quartier     string\n",
       "Prix          Int64\n",
       "dtype: object"
      ]
     },
     "execution_count": 6,
     "metadata": {},
     "output_type": "execute_result"
    }
   ],
   "source": [
    "donnees = donnees.convert_dtypes()\n",
    "donnees.dtypes"
   ]
  },
  {
   "cell_type": "markdown",
   "metadata": {},
   "source": [
    "On pourrait vouloir forcer la conversion de la colonne `Surface` en `Int`."
   ]
  },
  {
   "cell_type": "code",
   "execution_count": 7,
   "metadata": {},
   "outputs": [],
   "source": [
    "#donnees.Surface = donnees.Surface.apply(int)"
   ]
  },
  {
   "cell_type": "markdown",
   "metadata": {},
   "source": [
    "**ATTENTION** en python `NaN` est forcément un flottant..."
   ]
  },
  {
   "cell_type": "markdown",
   "metadata": {},
   "source": [
    "**Remarque** on aurait pu utiliser une méthode spécifique pour les types : `astype`."
   ]
  },
  {
   "cell_type": "code",
   "execution_count": 8,
   "metadata": {},
   "outputs": [
    {
     "data": {
      "text/plain": [
       "Index(['Genre', 'Neuf', 'Surface', 'Pieces', 'Quartier', 'Prix'], dtype='object')"
      ]
     },
     "execution_count": 8,
     "metadata": {},
     "output_type": "execute_result"
    }
   ],
   "source": [
    "donnees = donnees.drop_duplicates().drop(axis=1, labels=\"Id\")\n",
    "donnees.columns"
   ]
  },
  {
   "cell_type": "markdown",
   "metadata": {},
   "source": [
    "# Numériser les colonnes"
   ]
  },
  {
   "cell_type": "code",
   "execution_count": 9,
   "metadata": {},
   "outputs": [
    {
     "data": {
      "text/plain": [
       "Genre        string\n",
       "Neuf          Int64\n",
       "Surface     float64\n",
       "Pieces        Int64\n",
       "Quartier     string\n",
       "Prix          Int64\n",
       "dtype: object"
      ]
     },
     "execution_count": 9,
     "metadata": {},
     "output_type": "execute_result"
    }
   ],
   "source": [
    "donnees.dtypes"
   ]
  },
  {
   "cell_type": "code",
   "execution_count": 12,
   "metadata": {},
   "outputs": [
    {
     "data": {
      "text/plain": [
       "Appartement    1241\n",
       "Maison          392\n",
       "Name: Genre, dtype: Int64"
      ]
     },
     "execution_count": 12,
     "metadata": {},
     "output_type": "execute_result"
    }
   ],
   "source": [
    "donnees.Genre.value_counts()"
   ]
  },
  {
   "cell_type": "code",
   "execution_count": 13,
   "metadata": {},
   "outputs": [
    {
     "data": {
      "text/plain": [
       "Genre         int64\n",
       "Neuf          Int64\n",
       "Surface     float64\n",
       "Pieces        Int64\n",
       "Quartier     string\n",
       "Prix          Int64\n",
       "dtype: object"
      ]
     },
     "execution_count": 13,
     "metadata": {},
     "output_type": "execute_result"
    }
   ],
   "source": [
    "def filtre(genre):\n",
    "    if genre == \"Appartement\":\n",
    "        return 0\n",
    "    elif genre == \"Maison\":\n",
    "        return 1\n",
    "donnees.Genre = donnees.Genre.apply(filtre)\n",
    "donnees.dtypes"
   ]
  },
  {
   "cell_type": "markdown",
   "metadata": {},
   "source": [
    "# Regarder les valeurs manquantes "
   ]
  },
  {
   "cell_type": "code",
   "execution_count": 14,
   "metadata": {},
   "outputs": [
    {
     "data": {
      "text/plain": [
       "Genre       1633\n",
       "Neuf        1633\n",
       "Surface     1625\n",
       "Pieces      1632\n",
       "Quartier     948\n",
       "Prix        1632\n",
       "dtype: int64"
      ]
     },
     "execution_count": 14,
     "metadata": {},
     "output_type": "execute_result"
    }
   ],
   "source": [
    "donnees.count()"
   ]
  },
  {
   "cell_type": "markdown",
   "metadata": {},
   "source": [
    "1. On va dégager les annonces problématiques pour les variables `Surface`, `Pieces` et `Prix` car ça ne modifie quasiment pas la taille de l'échantillon.\n",
    "2. Pour `Quartier` il va falloir être plus prudent. On pourra supprimer les lignes non remplies (mais ça diminue beaucoup l'échantillon), on pourra remplir avec un quartier artificiel, on pourra une fois appliqué `OneHotEncoder` remplir numériquement suivant la probabilité d'être dans un quartier, on peut finalement éliminer la colonne `Quartier`. Ces choix constitueront une étape pour lesquelles on sélectionnera par cross-validation. On reporte à plus tard ces modifications."
   ]
  },
  {
   "cell_type": "code",
   "execution_count": 15,
   "metadata": {},
   "outputs": [
    {
     "data": {
      "text/plain": [
       "Genre       1625\n",
       "Neuf        1625\n",
       "Surface     1625\n",
       "Pieces      1625\n",
       "Quartier     944\n",
       "Prix        1625\n",
       "dtype: int64"
      ]
     },
     "execution_count": 15,
     "metadata": {},
     "output_type": "execute_result"
    }
   ],
   "source": [
    "donnees = donnees.dropna(axis=0, subset=[\"Surface\", \"Pieces\", \"Prix\"])\n",
    "donnees.count()"
   ]
  },
  {
   "cell_type": "markdown",
   "metadata": {},
   "source": [
    "# Identifier les variables numériques importantes."
   ]
  },
  {
   "cell_type": "code",
   "execution_count": 20,
   "metadata": {},
   "outputs": [
    {
     "data": {
      "text/html": [
       "<div>\n",
       "<style scoped>\n",
       "    .dataframe tbody tr th:only-of-type {\n",
       "        vertical-align: middle;\n",
       "    }\n",
       "\n",
       "    .dataframe tbody tr th {\n",
       "        vertical-align: top;\n",
       "    }\n",
       "\n",
       "    .dataframe thead th {\n",
       "        text-align: right;\n",
       "    }\n",
       "</style>\n",
       "<table border=\"1\" class=\"dataframe\">\n",
       "  <thead>\n",
       "    <tr style=\"text-align: right;\">\n",
       "      <th></th>\n",
       "      <th>Genre</th>\n",
       "      <th>Neuf</th>\n",
       "      <th>Surface</th>\n",
       "      <th>Pieces</th>\n",
       "      <th>Prix</th>\n",
       "    </tr>\n",
       "  </thead>\n",
       "  <tbody>\n",
       "    <tr>\n",
       "      <th>Genre</th>\n",
       "      <td>1.000000</td>\n",
       "      <td>-0.154702</td>\n",
       "      <td>0.645712</td>\n",
       "      <td>0.696207</td>\n",
       "      <td>0.570702</td>\n",
       "    </tr>\n",
       "    <tr>\n",
       "      <th>Neuf</th>\n",
       "      <td>-0.154702</td>\n",
       "      <td>1.000000</td>\n",
       "      <td>-0.157973</td>\n",
       "      <td>-0.176411</td>\n",
       "      <td>-0.050407</td>\n",
       "    </tr>\n",
       "    <tr>\n",
       "      <th>Surface</th>\n",
       "      <td>0.645712</td>\n",
       "      <td>-0.157973</td>\n",
       "      <td>1.000000</td>\n",
       "      <td>0.876863</td>\n",
       "      <td>0.805905</td>\n",
       "    </tr>\n",
       "    <tr>\n",
       "      <th>Pieces</th>\n",
       "      <td>0.696207</td>\n",
       "      <td>-0.176411</td>\n",
       "      <td>0.876863</td>\n",
       "      <td>1.000000</td>\n",
       "      <td>0.778890</td>\n",
       "    </tr>\n",
       "    <tr>\n",
       "      <th>Prix</th>\n",
       "      <td>0.570702</td>\n",
       "      <td>-0.050407</td>\n",
       "      <td>0.805905</td>\n",
       "      <td>0.778890</td>\n",
       "      <td>1.000000</td>\n",
       "    </tr>\n",
       "  </tbody>\n",
       "</table>\n",
       "</div>"
      ],
      "text/plain": [
       "            Genre      Neuf   Surface    Pieces      Prix\n",
       "Genre    1.000000 -0.154702  0.645712  0.696207  0.570702\n",
       "Neuf    -0.154702  1.000000 -0.157973 -0.176411 -0.050407\n",
       "Surface  0.645712 -0.157973  1.000000  0.876863  0.805905\n",
       "Pieces   0.696207 -0.176411  0.876863  1.000000  0.778890\n",
       "Prix     0.570702 -0.050407  0.805905  0.778890  1.000000"
      ]
     },
     "execution_count": 20,
     "metadata": {},
     "output_type": "execute_result"
    }
   ],
   "source": [
    "donnees.corr()"
   ]
  },
  {
   "cell_type": "markdown",
   "metadata": {},
   "source": [
    "**Remarque** Pour la visualisation de `DataFrame`, on peut commencer par les méthodes de `pandas` puis très vite utiliser `seaborn` et éventuellement des librairies plus sophistiquées fonctionnant dans le navigateur on pourra regarder `altair`, `bqplot`, `bokeh` et `plotly`."
   ]
  },
  {
   "cell_type": "markdown",
   "metadata": {},
   "source": [
    "# Gestion de la variable `Quartier`"
   ]
  },
  {
   "cell_type": "code",
   "execution_count": 16,
   "metadata": {},
   "outputs": [
    {
     "data": {
      "text/plain": [
       "Index(['Genre', 'Neuf', 'Surface', 'Pieces', 'Prix'], dtype='object')"
      ]
     },
     "execution_count": 16,
     "metadata": {},
     "output_type": "execute_result"
    }
   ],
   "source": [
    "donnees_sans_quartier = donnees.drop(axis=1, labels=\"Quartier\")\n",
    "donnees_sans_quartier.columns"
   ]
  },
  {
   "cell_type": "code",
   "execution_count": 17,
   "metadata": {},
   "outputs": [
    {
     "data": {
      "text/plain": [
       "Genre       944\n",
       "Neuf        944\n",
       "Surface     944\n",
       "Pieces      944\n",
       "Quartier    944\n",
       "Prix        944\n",
       "dtype: int64"
      ]
     },
     "execution_count": 17,
     "metadata": {},
     "output_type": "execute_result"
    }
   ],
   "source": [
    "donnees_avec_quartier = donnees.dropna(axis=0)\n",
    "donnees_avec_quartier.count()"
   ]
  },
  {
   "cell_type": "code",
   "execution_count": 18,
   "metadata": {},
   "outputs": [
    {
     "name": "stdout",
     "output_type": "stream",
     "text": [
      "Genre       1625\n",
      "Neuf        1625\n",
      "Surface     1625\n",
      "Pieces      1625\n",
      "Quartier    1625\n",
      "Prix        1625\n",
      "dtype: int64\n"
     ]
    },
    {
     "data": {
      "text/plain": [
       "Fictif           681\n",
       "nord             180\n",
       "centre           161\n",
       "cher              90\n",
       "sud               90\n",
       "halles            63\n",
       "prébendes         61\n",
       "gare              51\n",
       "velpeau           36\n",
       "cathédrale        35\n",
       "beaujardin        28\n",
       "portes            19\n",
       "2 lions           18\n",
       "radegonde         18\n",
       "febvotte          15\n",
       "strasbourg        14\n",
       "tranchée          12\n",
       "montjoyeux        12\n",
       "paul bert         10\n",
       "heurteloup         9\n",
       "eloi               5\n",
       "mairie             4\n",
       "conservatoire      4\n",
       "cluzel             3\n",
       "fontaines          3\n",
       "béranger           2\n",
       "rotonde            1\n",
       "Name: Quartier, dtype: Int64"
      ]
     },
     "execution_count": 18,
     "metadata": {},
     "output_type": "execute_result"
    }
   ],
   "source": [
    "donnees_quartier_artificiel = donnees.fillna(value={\"Quartier\": \"Fictif\"})\n",
    "print(donnees_quartier_artificiel.count())\n",
    "donnees_quartier_artificiel.Quartier.value_counts()"
   ]
  },
  {
   "cell_type": "markdown",
   "metadata": {},
   "source": [
    "Pour le prochain `DataFrame` vous allez  \n",
    "- rajouter une nouvelle colonne pour chaque valeur possible de  `Quartier`, \n",
    "- numériser les lignes ayant un quartier renseigné en mettant un 1 dans la colonne correspondante et des 0 ailleurs.\n",
    "- Et finalement pour les lignes ou le quartier n'est pas renseigné vous allez mettre dans les nouvelles colonnes la valeur moyenne correspondant à la colonne pour les valeurs déjà présente."
   ]
  },
  {
   "cell_type": "code",
   "execution_count": 38,
   "metadata": {},
   "outputs": [],
   "source": [
    "tous_les_quartiers = list(donnees.Quartier.value_counts().index)\n",
    "\n",
    "def transforme_quartier(courant, cible):\n",
    "    try:\n",
    "        if courant == cible:\n",
    "            return 1\n",
    "        elif courant in tous_les_quartiers:\n",
    "            return 0\n",
    "    except TypeError:\n",
    "        return None\n",
    "\n",
    "donnees_quartier_probabiliste = donnees.copy().drop(axis=1, labels=\"Quartier\")\n",
    "for quartier in tous_les_quartiers:\n",
    "    nom_colonne = (\"Quartier_\" + quartier ).replace(\" \",\"_\")\n",
    "    donnees_quartier_probabiliste[nom_colonne] = donnees.Quartier.apply(lambda val: transforme_quartier(val, quartier)) "
   ]
  },
  {
   "cell_type": "code",
   "execution_count": 39,
   "metadata": {},
   "outputs": [
    {
     "data": {
      "text/html": [
       "<div>\n",
       "<style scoped>\n",
       "    .dataframe tbody tr th:only-of-type {\n",
       "        vertical-align: middle;\n",
       "    }\n",
       "\n",
       "    .dataframe tbody tr th {\n",
       "        vertical-align: top;\n",
       "    }\n",
       "\n",
       "    .dataframe thead th {\n",
       "        text-align: right;\n",
       "    }\n",
       "</style>\n",
       "<table border=\"1\" class=\"dataframe\">\n",
       "  <thead>\n",
       "    <tr style=\"text-align: right;\">\n",
       "      <th></th>\n",
       "      <th>Genre</th>\n",
       "      <th>Neuf</th>\n",
       "      <th>Surface</th>\n",
       "      <th>Pieces</th>\n",
       "      <th>Prix</th>\n",
       "      <th>Quartier_nord</th>\n",
       "      <th>Quartier_centre</th>\n",
       "      <th>Quartier_cher</th>\n",
       "      <th>Quartier_sud</th>\n",
       "      <th>Quartier_halles</th>\n",
       "      <th>...</th>\n",
       "      <th>Quartier_tranchée</th>\n",
       "      <th>Quartier_paul_bert</th>\n",
       "      <th>Quartier_heurteloup</th>\n",
       "      <th>Quartier_eloi</th>\n",
       "      <th>Quartier_mairie</th>\n",
       "      <th>Quartier_conservatoire</th>\n",
       "      <th>Quartier_cluzel</th>\n",
       "      <th>Quartier_fontaines</th>\n",
       "      <th>Quartier_béranger</th>\n",
       "      <th>Quartier_rotonde</th>\n",
       "    </tr>\n",
       "  </thead>\n",
       "  <tbody>\n",
       "    <tr>\n",
       "      <th>0</th>\n",
       "      <td>0</td>\n",
       "      <td>0</td>\n",
       "      <td>90.00</td>\n",
       "      <td>3</td>\n",
       "      <td>374400</td>\n",
       "      <td>0.0</td>\n",
       "      <td>0.0</td>\n",
       "      <td>0.0</td>\n",
       "      <td>0.0</td>\n",
       "      <td>0.0</td>\n",
       "      <td>...</td>\n",
       "      <td>0.0</td>\n",
       "      <td>0.0</td>\n",
       "      <td>0.0</td>\n",
       "      <td>0.0</td>\n",
       "      <td>0.0</td>\n",
       "      <td>0.0</td>\n",
       "      <td>0.0</td>\n",
       "      <td>0.0</td>\n",
       "      <td>0.0</td>\n",
       "      <td>0.0</td>\n",
       "    </tr>\n",
       "    <tr>\n",
       "      <th>1</th>\n",
       "      <td>0</td>\n",
       "      <td>0</td>\n",
       "      <td>146.27</td>\n",
       "      <td>5</td>\n",
       "      <td>499200</td>\n",
       "      <td>0.0</td>\n",
       "      <td>0.0</td>\n",
       "      <td>0.0</td>\n",
       "      <td>1.0</td>\n",
       "      <td>0.0</td>\n",
       "      <td>...</td>\n",
       "      <td>0.0</td>\n",
       "      <td>0.0</td>\n",
       "      <td>0.0</td>\n",
       "      <td>0.0</td>\n",
       "      <td>0.0</td>\n",
       "      <td>0.0</td>\n",
       "      <td>0.0</td>\n",
       "      <td>0.0</td>\n",
       "      <td>0.0</td>\n",
       "      <td>0.0</td>\n",
       "    </tr>\n",
       "    <tr>\n",
       "      <th>2</th>\n",
       "      <td>0</td>\n",
       "      <td>0</td>\n",
       "      <td>110.00</td>\n",
       "      <td>5</td>\n",
       "      <td>499200</td>\n",
       "      <td>0.0</td>\n",
       "      <td>0.0</td>\n",
       "      <td>0.0</td>\n",
       "      <td>0.0</td>\n",
       "      <td>0.0</td>\n",
       "      <td>...</td>\n",
       "      <td>0.0</td>\n",
       "      <td>0.0</td>\n",
       "      <td>0.0</td>\n",
       "      <td>0.0</td>\n",
       "      <td>0.0</td>\n",
       "      <td>0.0</td>\n",
       "      <td>0.0</td>\n",
       "      <td>0.0</td>\n",
       "      <td>0.0</td>\n",
       "      <td>0.0</td>\n",
       "    </tr>\n",
       "    <tr>\n",
       "      <th>3</th>\n",
       "      <td>1</td>\n",
       "      <td>0</td>\n",
       "      <td>132.00</td>\n",
       "      <td>6</td>\n",
       "      <td>508000</td>\n",
       "      <td>0.0</td>\n",
       "      <td>0.0</td>\n",
       "      <td>0.0</td>\n",
       "      <td>0.0</td>\n",
       "      <td>0.0</td>\n",
       "      <td>...</td>\n",
       "      <td>0.0</td>\n",
       "      <td>0.0</td>\n",
       "      <td>0.0</td>\n",
       "      <td>0.0</td>\n",
       "      <td>0.0</td>\n",
       "      <td>0.0</td>\n",
       "      <td>0.0</td>\n",
       "      <td>0.0</td>\n",
       "      <td>0.0</td>\n",
       "      <td>0.0</td>\n",
       "    </tr>\n",
       "    <tr>\n",
       "      <th>4</th>\n",
       "      <td>1</td>\n",
       "      <td>0</td>\n",
       "      <td>185.00</td>\n",
       "      <td>7</td>\n",
       "      <td>676000</td>\n",
       "      <td>0.0</td>\n",
       "      <td>0.0</td>\n",
       "      <td>0.0</td>\n",
       "      <td>0.0</td>\n",
       "      <td>0.0</td>\n",
       "      <td>...</td>\n",
       "      <td>0.0</td>\n",
       "      <td>0.0</td>\n",
       "      <td>0.0</td>\n",
       "      <td>0.0</td>\n",
       "      <td>0.0</td>\n",
       "      <td>0.0</td>\n",
       "      <td>0.0</td>\n",
       "      <td>0.0</td>\n",
       "      <td>0.0</td>\n",
       "      <td>0.0</td>\n",
       "    </tr>\n",
       "  </tbody>\n",
       "</table>\n",
       "<p>5 rows × 31 columns</p>\n",
       "</div>"
      ],
      "text/plain": [
       "   Genre  Neuf  Surface  Pieces    Prix  Quartier_nord  Quartier_centre  \\\n",
       "0      0     0    90.00       3  374400            0.0              0.0   \n",
       "1      0     0   146.27       5  499200            0.0              0.0   \n",
       "2      0     0   110.00       5  499200            0.0              0.0   \n",
       "3      1     0   132.00       6  508000            0.0              0.0   \n",
       "4      1     0   185.00       7  676000            0.0              0.0   \n",
       "\n",
       "   Quartier_cher  Quartier_sud  Quartier_halles  ...  Quartier_tranchée  \\\n",
       "0            0.0           0.0              0.0  ...                0.0   \n",
       "1            0.0           1.0              0.0  ...                0.0   \n",
       "2            0.0           0.0              0.0  ...                0.0   \n",
       "3            0.0           0.0              0.0  ...                0.0   \n",
       "4            0.0           0.0              0.0  ...                0.0   \n",
       "\n",
       "   Quartier_paul_bert  Quartier_heurteloup  Quartier_eloi  Quartier_mairie  \\\n",
       "0                 0.0                  0.0            0.0              0.0   \n",
       "1                 0.0                  0.0            0.0              0.0   \n",
       "2                 0.0                  0.0            0.0              0.0   \n",
       "3                 0.0                  0.0            0.0              0.0   \n",
       "4                 0.0                  0.0            0.0              0.0   \n",
       "\n",
       "   Quartier_conservatoire  Quartier_cluzel  Quartier_fontaines  \\\n",
       "0                     0.0              0.0                 0.0   \n",
       "1                     0.0              0.0                 0.0   \n",
       "2                     0.0              0.0                 0.0   \n",
       "3                     0.0              0.0                 0.0   \n",
       "4                     0.0              0.0                 0.0   \n",
       "\n",
       "   Quartier_béranger  Quartier_rotonde  \n",
       "0                0.0               0.0  \n",
       "1                0.0               0.0  \n",
       "2                0.0               0.0  \n",
       "3                0.0               0.0  \n",
       "4                0.0               0.0  \n",
       "\n",
       "[5 rows x 31 columns]"
      ]
     },
     "execution_count": 39,
     "metadata": {},
     "output_type": "execute_result"
    }
   ],
   "source": [
    "donnees_quartier_probabiliste.head()"
   ]
  },
  {
   "cell_type": "code",
   "execution_count": 40,
   "metadata": {},
   "outputs": [
    {
     "data": {
      "text/plain": [
       "Genre                     1625\n",
       "Neuf                      1625\n",
       "Surface                   1625\n",
       "Pieces                    1625\n",
       "Prix                      1625\n",
       "Quartier_nord              944\n",
       "Quartier_centre            944\n",
       "Quartier_cher              944\n",
       "Quartier_sud               944\n",
       "Quartier_halles            944\n",
       "Quartier_prébendes         944\n",
       "Quartier_gare              944\n",
       "Quartier_velpeau           944\n",
       "Quartier_cathédrale        944\n",
       "Quartier_beaujardin        944\n",
       "Quartier_portes            944\n",
       "Quartier_radegonde         944\n",
       "Quartier_2_lions           944\n",
       "Quartier_febvotte          944\n",
       "Quartier_strasbourg        944\n",
       "Quartier_montjoyeux        944\n",
       "Quartier_tranchée          944\n",
       "Quartier_paul_bert         944\n",
       "Quartier_heurteloup        944\n",
       "Quartier_eloi              944\n",
       "Quartier_mairie            944\n",
       "Quartier_conservatoire     944\n",
       "Quartier_cluzel            944\n",
       "Quartier_fontaines         944\n",
       "Quartier_béranger          944\n",
       "Quartier_rotonde           944\n",
       "dtype: int64"
      ]
     },
     "execution_count": 40,
     "metadata": {},
     "output_type": "execute_result"
    }
   ],
   "source": [
    "donnees_quartier_probabiliste.count()"
   ]
  },
  {
   "cell_type": "code",
   "execution_count": 43,
   "metadata": {},
   "outputs": [
    {
     "data": {
      "text/plain": [
       "Genre                          0.240615\n",
       "Neuf                           0.134769\n",
       "Surface                       98.230351\n",
       "Pieces                         4.055385\n",
       "Prix                      263295.091077\n",
       "Quartier_nord                  0.190678\n",
       "Quartier_centre                0.170551\n",
       "Quartier_cher                  0.095339\n",
       "Quartier_sud                   0.095339\n",
       "Quartier_halles                0.066737\n",
       "Quartier_prébendes             0.064619\n",
       "Quartier_gare                  0.054025\n",
       "Quartier_velpeau               0.038136\n",
       "Quartier_cathédrale            0.037076\n",
       "Quartier_beaujardin            0.029661\n",
       "Quartier_portes                0.020127\n",
       "Quartier_radegonde             0.019068\n",
       "Quartier_2_lions               0.019068\n",
       "Quartier_febvotte              0.015890\n",
       "Quartier_strasbourg            0.014831\n",
       "Quartier_montjoyeux            0.012712\n",
       "Quartier_tranchée              0.012712\n",
       "Quartier_paul_bert             0.010593\n",
       "Quartier_heurteloup            0.009534\n",
       "Quartier_eloi                  0.005297\n",
       "Quartier_mairie                0.004237\n",
       "Quartier_conservatoire         0.004237\n",
       "Quartier_cluzel                0.003178\n",
       "Quartier_fontaines             0.003178\n",
       "Quartier_béranger              0.002119\n",
       "Quartier_rotonde               0.001059\n",
       "dtype: float64"
      ]
     },
     "execution_count": 43,
     "metadata": {},
     "output_type": "execute_result"
    }
   ],
   "source": [
    "moyennes = donnees_quartier_probabiliste.mean(skipna=True)\n",
    "moyennes"
   ]
  },
  {
   "cell_type": "code",
   "execution_count": 47,
   "metadata": {},
   "outputs": [
    {
     "data": {
      "text/plain": [
       "pandas.core.series.Series"
      ]
     },
     "execution_count": 47,
     "metadata": {},
     "output_type": "execute_result"
    }
   ],
   "source": [
    "type(moyennes)"
   ]
  },
  {
   "cell_type": "code",
   "execution_count": 51,
   "metadata": {},
   "outputs": [
    {
     "data": {
      "text/plain": [
       "Genre                     1625\n",
       "Neuf                      1625\n",
       "Surface                   1625\n",
       "Pieces                    1625\n",
       "Prix                      1625\n",
       "Quartier_nord             1625\n",
       "Quartier_centre           1625\n",
       "Quartier_cher             1625\n",
       "Quartier_sud              1625\n",
       "Quartier_halles           1625\n",
       "Quartier_prébendes        1625\n",
       "Quartier_gare             1625\n",
       "Quartier_velpeau          1625\n",
       "Quartier_cathédrale       1625\n",
       "Quartier_beaujardin       1625\n",
       "Quartier_portes           1625\n",
       "Quartier_radegonde        1625\n",
       "Quartier_2_lions          1625\n",
       "Quartier_febvotte         1625\n",
       "Quartier_strasbourg       1625\n",
       "Quartier_montjoyeux       1625\n",
       "Quartier_tranchée         1625\n",
       "Quartier_paul_bert        1625\n",
       "Quartier_heurteloup       1625\n",
       "Quartier_eloi             1625\n",
       "Quartier_mairie           1625\n",
       "Quartier_conservatoire    1625\n",
       "Quartier_cluzel           1625\n",
       "Quartier_fontaines        1625\n",
       "Quartier_béranger         1625\n",
       "Quartier_rotonde          1625\n",
       "dtype: int64"
      ]
     },
     "execution_count": 51,
     "metadata": {},
     "output_type": "execute_result"
    }
   ],
   "source": [
    "donnees_quartier_probabiliste = donnees_quartier_probabiliste.fillna(axis=0, value=moyennes)\n",
    "donnees_quartier_probabiliste.count()"
   ]
  },
  {
   "cell_type": "code",
   "execution_count": 56,
   "metadata": {},
   "outputs": [
    {
     "name": "stdout",
     "output_type": "stream",
     "text": [
      "Genre                     0.000000e+00\n",
      "Neuf                      0.000000e+00\n",
      "Surface                   0.000000e+00\n",
      "Pieces                    0.000000e+00\n",
      "Prix                      0.000000e+00\n",
      "Quartier_nord            -2.775558e-17\n",
      "Quartier_centre          -2.775558e-17\n",
      "Quartier_cher            -1.387779e-17\n",
      "Quartier_sud             -1.387779e-17\n",
      "Quartier_halles           0.000000e+00\n",
      "Quartier_prébendes       -1.387779e-17\n",
      "Quartier_gare             0.000000e+00\n",
      "Quartier_velpeau          6.938894e-18\n",
      "Quartier_cathédrale       0.000000e+00\n",
      "Quartier_beaujardin       3.469447e-18\n",
      "Quartier_portes           3.469447e-18\n",
      "Quartier_radegonde        0.000000e+00\n",
      "Quartier_2_lions          0.000000e+00\n",
      "Quartier_febvotte         0.000000e+00\n",
      "Quartier_strasbourg      -1.734723e-18\n",
      "Quartier_montjoyeux       1.734723e-18\n",
      "Quartier_tranchée         1.734723e-18\n",
      "Quartier_paul_bert        0.000000e+00\n",
      "Quartier_heurteloup       1.734723e-18\n",
      "Quartier_eloi            -8.673617e-19\n",
      "Quartier_mairie           0.000000e+00\n",
      "Quartier_conservatoire    0.000000e+00\n",
      "Quartier_cluzel           1.301043e-18\n",
      "Quartier_fontaines        4.336809e-19\n",
      "Quartier_béranger        -4.336809e-19\n",
      "Quartier_rotonde          0.000000e+00\n",
      "dtype: float64\n"
     ]
    }
   ],
   "source": [
    "print(moyennes - donnees_quartier_probabiliste.mean())"
   ]
  },
  {
   "cell_type": "markdown",
   "metadata": {},
   "source": [
    "# Corrélation des quartiers avec le prix"
   ]
  },
  {
   "cell_type": "code",
   "execution_count": 58,
   "metadata": {},
   "outputs": [
    {
     "data": {
      "text/html": [
       "<div>\n",
       "<style scoped>\n",
       "    .dataframe tbody tr th:only-of-type {\n",
       "        vertical-align: middle;\n",
       "    }\n",
       "\n",
       "    .dataframe tbody tr th {\n",
       "        vertical-align: top;\n",
       "    }\n",
       "\n",
       "    .dataframe thead th {\n",
       "        text-align: right;\n",
       "    }\n",
       "</style>\n",
       "<table border=\"1\" class=\"dataframe\">\n",
       "  <thead>\n",
       "    <tr style=\"text-align: right;\">\n",
       "      <th></th>\n",
       "      <th>Prix</th>\n",
       "    </tr>\n",
       "  </thead>\n",
       "  <tbody>\n",
       "    <tr>\n",
       "      <th>Genre</th>\n",
       "      <td>0.570702</td>\n",
       "    </tr>\n",
       "    <tr>\n",
       "      <th>Neuf</th>\n",
       "      <td>-0.050407</td>\n",
       "    </tr>\n",
       "    <tr>\n",
       "      <th>Surface</th>\n",
       "      <td>0.805905</td>\n",
       "    </tr>\n",
       "    <tr>\n",
       "      <th>Pieces</th>\n",
       "      <td>0.778890</td>\n",
       "    </tr>\n",
       "    <tr>\n",
       "      <th>Prix</th>\n",
       "      <td>1.000000</td>\n",
       "    </tr>\n",
       "    <tr>\n",
       "      <th>Quartier_nord</th>\n",
       "      <td>-0.069118</td>\n",
       "    </tr>\n",
       "    <tr>\n",
       "      <th>Quartier_centre</th>\n",
       "      <td>0.047003</td>\n",
       "    </tr>\n",
       "    <tr>\n",
       "      <th>Quartier_cher</th>\n",
       "      <td>-0.100044</td>\n",
       "    </tr>\n",
       "    <tr>\n",
       "      <th>Quartier_sud</th>\n",
       "      <td>-0.030139</td>\n",
       "    </tr>\n",
       "    <tr>\n",
       "      <th>Quartier_halles</th>\n",
       "      <td>0.044393</td>\n",
       "    </tr>\n",
       "    <tr>\n",
       "      <th>Quartier_prébendes</th>\n",
       "      <td>0.095826</td>\n",
       "    </tr>\n",
       "    <tr>\n",
       "      <th>Quartier_gare</th>\n",
       "      <td>0.031559</td>\n",
       "    </tr>\n",
       "    <tr>\n",
       "      <th>Quartier_velpeau</th>\n",
       "      <td>0.030493</td>\n",
       "    </tr>\n",
       "    <tr>\n",
       "      <th>Quartier_cathédrale</th>\n",
       "      <td>0.066603</td>\n",
       "    </tr>\n",
       "    <tr>\n",
       "      <th>Quartier_beaujardin</th>\n",
       "      <td>-0.070084</td>\n",
       "    </tr>\n",
       "    <tr>\n",
       "      <th>Quartier_portes</th>\n",
       "      <td>0.096056</td>\n",
       "    </tr>\n",
       "    <tr>\n",
       "      <th>Quartier_radegonde</th>\n",
       "      <td>0.040696</td>\n",
       "    </tr>\n",
       "    <tr>\n",
       "      <th>Quartier_2_lions</th>\n",
       "      <td>-0.058350</td>\n",
       "    </tr>\n",
       "    <tr>\n",
       "      <th>Quartier_febvotte</th>\n",
       "      <td>-0.032173</td>\n",
       "    </tr>\n",
       "    <tr>\n",
       "      <th>Quartier_strasbourg</th>\n",
       "      <td>0.000639</td>\n",
       "    </tr>\n",
       "    <tr>\n",
       "      <th>Quartier_montjoyeux</th>\n",
       "      <td>-0.047504</td>\n",
       "    </tr>\n",
       "    <tr>\n",
       "      <th>Quartier_tranchée</th>\n",
       "      <td>-0.026345</td>\n",
       "    </tr>\n",
       "    <tr>\n",
       "      <th>Quartier_paul_bert</th>\n",
       "      <td>-0.012288</td>\n",
       "    </tr>\n",
       "    <tr>\n",
       "      <th>Quartier_heurteloup</th>\n",
       "      <td>-0.020061</td>\n",
       "    </tr>\n",
       "    <tr>\n",
       "      <th>Quartier_eloi</th>\n",
       "      <td>-0.017010</td>\n",
       "    </tr>\n",
       "    <tr>\n",
       "      <th>Quartier_mairie</th>\n",
       "      <td>0.044871</td>\n",
       "    </tr>\n",
       "    <tr>\n",
       "      <th>Quartier_conservatoire</th>\n",
       "      <td>0.080406</td>\n",
       "    </tr>\n",
       "    <tr>\n",
       "      <th>Quartier_cluzel</th>\n",
       "      <td>-0.021639</td>\n",
       "    </tr>\n",
       "    <tr>\n",
       "      <th>Quartier_fontaines</th>\n",
       "      <td>-0.032958</td>\n",
       "    </tr>\n",
       "    <tr>\n",
       "      <th>Quartier_béranger</th>\n",
       "      <td>0.011985</td>\n",
       "    </tr>\n",
       "    <tr>\n",
       "      <th>Quartier_rotonde</th>\n",
       "      <td>-0.019409</td>\n",
       "    </tr>\n",
       "  </tbody>\n",
       "</table>\n",
       "</div>"
      ],
      "text/plain": [
       "                            Prix\n",
       "Genre                   0.570702\n",
       "Neuf                   -0.050407\n",
       "Surface                 0.805905\n",
       "Pieces                  0.778890\n",
       "Prix                    1.000000\n",
       "Quartier_nord          -0.069118\n",
       "Quartier_centre         0.047003\n",
       "Quartier_cher          -0.100044\n",
       "Quartier_sud           -0.030139\n",
       "Quartier_halles         0.044393\n",
       "Quartier_prébendes      0.095826\n",
       "Quartier_gare           0.031559\n",
       "Quartier_velpeau        0.030493\n",
       "Quartier_cathédrale     0.066603\n",
       "Quartier_beaujardin    -0.070084\n",
       "Quartier_portes         0.096056\n",
       "Quartier_radegonde      0.040696\n",
       "Quartier_2_lions       -0.058350\n",
       "Quartier_febvotte      -0.032173\n",
       "Quartier_strasbourg     0.000639\n",
       "Quartier_montjoyeux    -0.047504\n",
       "Quartier_tranchée      -0.026345\n",
       "Quartier_paul_bert     -0.012288\n",
       "Quartier_heurteloup    -0.020061\n",
       "Quartier_eloi          -0.017010\n",
       "Quartier_mairie         0.044871\n",
       "Quartier_conservatoire  0.080406\n",
       "Quartier_cluzel        -0.021639\n",
       "Quartier_fontaines     -0.032958\n",
       "Quartier_béranger       0.011985\n",
       "Quartier_rotonde       -0.019409"
      ]
     },
     "execution_count": 58,
     "metadata": {},
     "output_type": "execute_result"
    }
   ],
   "source": [
    "donnees_quartier_probabiliste.corr()[[\"Prix\"]]"
   ]
  },
  {
   "cell_type": "markdown",
   "metadata": {},
   "source": [
    "# Nettoyer le notebook en créant des fonctions dans un fichier auxiliaire (que l'on testera avec des `assert`)"
   ]
  }
 ],
 "metadata": {
  "kernelspec": {
   "display_name": "Python 3",
   "language": "python",
   "name": "python3"
  },
  "language_info": {
   "codemirror_mode": {
    "name": "ipython",
    "version": 3
   },
   "file_extension": ".py",
   "mimetype": "text/x-python",
   "name": "python",
   "nbconvert_exporter": "python",
   "pygments_lexer": "ipython3",
   "version": "3.8.3"
  }
 },
 "nbformat": 4,
 "nbformat_minor": 4
}
