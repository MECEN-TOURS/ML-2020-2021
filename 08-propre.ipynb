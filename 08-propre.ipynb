{
 "cells": [
  {
   "cell_type": "code",
   "execution_count": 1,
   "metadata": {},
   "outputs": [],
   "source": [
    "import pandas as pd"
   ]
  },
  {
   "cell_type": "code",
   "execution_count": 2,
   "metadata": {},
   "outputs": [],
   "source": [
    "import nettoyage_lib as nl"
   ]
  },
  {
   "cell_type": "code",
   "execution_count": 3,
   "metadata": {},
   "outputs": [],
   "source": [
    "donnees_brutes = pd.read_csv(\"https://raw.githubusercontent.com/VPerrollaz/immobilier/master/donnees/data.tsv\", sep=\"\\t\")"
   ]
  },
  {
   "cell_type": "code",
   "execution_count": 4,
   "metadata": {},
   "outputs": [],
   "source": [
    "donnees_nettoyees = (\n",
    "    donnees_brutes\n",
    "    .pipe(nl.conversion_types)  \n",
    "    .pipe(nl.suppression_annonces_redondantes)\n",
    "    .pipe(nl.suppression_colonne_id)\n",
    "    .pipe(nl.numerise_les_colonnes)\n",
    "    .pipe(nl.supprime_partiellement_na)\n",
    ")"
   ]
  },
  {
   "cell_type": "code",
   "execution_count": 5,
   "metadata": {},
   "outputs": [
    {
     "data": {
      "text/html": [
       "<div>\n",
       "<style scoped>\n",
       "    .dataframe tbody tr th:only-of-type {\n",
       "        vertical-align: middle;\n",
       "    }\n",
       "\n",
       "    .dataframe tbody tr th {\n",
       "        vertical-align: top;\n",
       "    }\n",
       "\n",
       "    .dataframe thead th {\n",
       "        text-align: right;\n",
       "    }\n",
       "</style>\n",
       "<table border=\"1\" class=\"dataframe\">\n",
       "  <thead>\n",
       "    <tr style=\"text-align: right;\">\n",
       "      <th></th>\n",
       "      <th>Genre</th>\n",
       "      <th>Neuf</th>\n",
       "      <th>Surface</th>\n",
       "      <th>Pieces</th>\n",
       "      <th>Quartier</th>\n",
       "      <th>Prix</th>\n",
       "    </tr>\n",
       "  </thead>\n",
       "  <tbody>\n",
       "    <tr>\n",
       "      <th>0</th>\n",
       "      <td>0</td>\n",
       "      <td>0</td>\n",
       "      <td>90.00</td>\n",
       "      <td>3</td>\n",
       "      <td>cathédrale</td>\n",
       "      <td>374400</td>\n",
       "    </tr>\n",
       "    <tr>\n",
       "      <th>1</th>\n",
       "      <td>0</td>\n",
       "      <td>0</td>\n",
       "      <td>146.27</td>\n",
       "      <td>5</td>\n",
       "      <td>sud</td>\n",
       "      <td>499200</td>\n",
       "    </tr>\n",
       "    <tr>\n",
       "      <th>2</th>\n",
       "      <td>0</td>\n",
       "      <td>0</td>\n",
       "      <td>110.00</td>\n",
       "      <td>5</td>\n",
       "      <td>prébendes</td>\n",
       "      <td>499200</td>\n",
       "    </tr>\n",
       "    <tr>\n",
       "      <th>3</th>\n",
       "      <td>1</td>\n",
       "      <td>0</td>\n",
       "      <td>132.00</td>\n",
       "      <td>6</td>\n",
       "      <td>prébendes</td>\n",
       "      <td>508000</td>\n",
       "    </tr>\n",
       "    <tr>\n",
       "      <th>4</th>\n",
       "      <td>1</td>\n",
       "      <td>0</td>\n",
       "      <td>185.00</td>\n",
       "      <td>7</td>\n",
       "      <td>strasbourg</td>\n",
       "      <td>676000</td>\n",
       "    </tr>\n",
       "  </tbody>\n",
       "</table>\n",
       "</div>"
      ],
      "text/plain": [
       "   Genre  Neuf  Surface  Pieces    Quartier    Prix\n",
       "0      0     0    90.00       3  cathédrale  374400\n",
       "1      0     0   146.27       5         sud  499200\n",
       "2      0     0   110.00       5   prébendes  499200\n",
       "3      1     0   132.00       6   prébendes  508000\n",
       "4      1     0   185.00       7  strasbourg  676000"
      ]
     },
     "execution_count": 5,
     "metadata": {},
     "output_type": "execute_result"
    }
   ],
   "source": [
    "donnees_nettoyees.head()"
   ]
  },
  {
   "cell_type": "markdown",
   "metadata": {},
   "source": [
    "# Rappel sur le projet en cours\n",
    "\n",
    "1. Problématique : identifier les bonnes annonces immobilières sur Tours \n",
    "2. Modélisation : en utilisant un prédicteur de prix représentant la connaissance du marché immobilier, les bonnes annonces sont celles dont le prix est en dessous de ce qui est prédit à partir des caractéristiques.\n",
    "3. Analyse du prédicteur : jeu de données disponibles sur internet les annonces de seloger.com\n",
    "4. Analyse de la faisabilité : 1600 annonces avec facilement accessibles prix, nombre de pièces, type de logement (genre et ancien) et plus délicat quartier\n",
    "5. Scraping des données via selenium : on extrait directement ce qui est facilement accessible et on stocke les infos brutes dont on pourra extraire le quartier, resultat fichier json.\n",
    "6. Transformation : utilisation de regex (entre autres) pour extraire un quartier et rendre les données tabulaire : resultat fichier tsv\n",
    "7. Nettoyage : préparation des données via pandas : resultat pipeline pandas pour transformer le tableau avant de le passer à sklearn.\n",
    "8. Apprentissage : Entrainement et sélection d'un prédicteur : resultat pipeline sklearn.\n",
    "9. Conclusion : utiliser le prédicteur pour répondre à la question originale."
   ]
  },
  {
   "cell_type": "markdown",
   "metadata": {},
   "source": [
    "# Phase exploratoire avec sklearn"
   ]
  },
  {
   "cell_type": "markdown",
   "metadata": {},
   "source": [
    "1. Sans la colonne quartier, entrainer un opérateur de prédiction des prix, en faisant la cross-validation pour la algorithmes pertinent.\n",
    "2. Ajouter un LabelEncoder pour Quartier et faites de même.\n",
    "3. Utiliser un OneHotEncoder et faites de même."
   ]
  },
  {
   "cell_type": "code",
   "execution_count": null,
   "metadata": {},
   "outputs": [],
   "source": []
  }
 ],
 "metadata": {
  "kernelspec": {
   "display_name": "Python 3",
   "language": "python",
   "name": "python3"
  },
  "language_info": {
   "codemirror_mode": {
    "name": "ipython",
    "version": 3
   },
   "file_extension": ".py",
   "mimetype": "text/x-python",
   "name": "python",
   "nbconvert_exporter": "python",
   "pygments_lexer": "ipython3",
   "version": "3.8.3"
  }
 },
 "nbformat": 4,
 "nbformat_minor": 4
}
