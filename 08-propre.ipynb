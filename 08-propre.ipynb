{
 "cells": [
  {
   "cell_type": "code",
   "execution_count": 1,
   "metadata": {},
   "outputs": [],
   "source": [
    "import pandas as pd"
   ]
  },
  {
   "cell_type": "code",
   "execution_count": 2,
   "metadata": {},
   "outputs": [],
   "source": [
    "import nettoyage_lib as nl"
   ]
  },
  {
   "cell_type": "code",
   "execution_count": 3,
   "metadata": {},
   "outputs": [],
   "source": [
    "donnees_brutes = pd.read_csv(\"https://raw.githubusercontent.com/VPerrollaz/immobilier/master/donnees/data.tsv\", sep=\"\\t\")"
   ]
  },
  {
   "cell_type": "code",
   "execution_count": 4,
   "metadata": {},
   "outputs": [],
   "source": [
    "donnees_nettoyees = (\n",
    "    donnees_brutes\n",
    "    .pipe(nl.conversion_types)  \n",
    "    .pipe(nl.suppression_annonces_redondantes)\n",
    "    .pipe(nl.suppression_colonne_id)\n",
    "    .pipe(nl.numerise_les_colonnes)\n",
    "    .pipe(nl.supprime_partiellement_na)\n",
    ")"
   ]
  },
  {
   "cell_type": "code",
   "execution_count": 5,
   "metadata": {},
   "outputs": [
    {
     "data": {
      "text/html": [
       "<div>\n",
       "<style scoped>\n",
       "    .dataframe tbody tr th:only-of-type {\n",
       "        vertical-align: middle;\n",
       "    }\n",
       "\n",
       "    .dataframe tbody tr th {\n",
       "        vertical-align: top;\n",
       "    }\n",
       "\n",
       "    .dataframe thead th {\n",
       "        text-align: right;\n",
       "    }\n",
       "</style>\n",
       "<table border=\"1\" class=\"dataframe\">\n",
       "  <thead>\n",
       "    <tr style=\"text-align: right;\">\n",
       "      <th></th>\n",
       "      <th>Genre</th>\n",
       "      <th>Neuf</th>\n",
       "      <th>Surface</th>\n",
       "      <th>Pieces</th>\n",
       "      <th>Quartier</th>\n",
       "      <th>Prix</th>\n",
       "    </tr>\n",
       "  </thead>\n",
       "  <tbody>\n",
       "    <tr>\n",
       "      <th>0</th>\n",
       "      <td>0</td>\n",
       "      <td>0</td>\n",
       "      <td>90.00</td>\n",
       "      <td>3</td>\n",
       "      <td>cathédrale</td>\n",
       "      <td>374400</td>\n",
       "    </tr>\n",
       "    <tr>\n",
       "      <th>1</th>\n",
       "      <td>0</td>\n",
       "      <td>0</td>\n",
       "      <td>146.27</td>\n",
       "      <td>5</td>\n",
       "      <td>sud</td>\n",
       "      <td>499200</td>\n",
       "    </tr>\n",
       "    <tr>\n",
       "      <th>2</th>\n",
       "      <td>0</td>\n",
       "      <td>0</td>\n",
       "      <td>110.00</td>\n",
       "      <td>5</td>\n",
       "      <td>prébendes</td>\n",
       "      <td>499200</td>\n",
       "    </tr>\n",
       "    <tr>\n",
       "      <th>3</th>\n",
       "      <td>1</td>\n",
       "      <td>0</td>\n",
       "      <td>132.00</td>\n",
       "      <td>6</td>\n",
       "      <td>prébendes</td>\n",
       "      <td>508000</td>\n",
       "    </tr>\n",
       "    <tr>\n",
       "      <th>4</th>\n",
       "      <td>1</td>\n",
       "      <td>0</td>\n",
       "      <td>185.00</td>\n",
       "      <td>7</td>\n",
       "      <td>strasbourg</td>\n",
       "      <td>676000</td>\n",
       "    </tr>\n",
       "  </tbody>\n",
       "</table>\n",
       "</div>"
      ],
      "text/plain": [
       "   Genre  Neuf  Surface  Pieces    Quartier    Prix\n",
       "0      0     0    90.00       3  cathédrale  374400\n",
       "1      0     0   146.27       5         sud  499200\n",
       "2      0     0   110.00       5   prébendes  499200\n",
       "3      1     0   132.00       6   prébendes  508000\n",
       "4      1     0   185.00       7  strasbourg  676000"
      ]
     },
     "execution_count": 5,
     "metadata": {},
     "output_type": "execute_result"
    }
   ],
   "source": [
    "donnees_nettoyees.head()"
   ]
  },
  {
   "cell_type": "markdown",
   "metadata": {},
   "source": [
    "# Rappel sur le projet en cours\n",
    "\n",
    "1. Problématique : identifier les bonnes annonces immobilières sur Tours \n",
    "2. Modélisation : en utilisant un prédicteur de prix représentant la connaissance du marché immobilier, les bonnes annonces sont celles dont le prix est en dessous de ce qui est prédit à partir des caractéristiques.\n",
    "3. Analyse du prédicteur : jeu de données disponible sur internet, les annonces de seloger.com.\n",
    "4. Analyse de la faisabilité : 1600 annonces avec facilement accessibles prix, nombre de pièces, surface, type de logement (genre et ancien) et plus délicatement le quartier.\n",
    "5. Scraping des données via selenium : on extrait directement ce qui est facilement accessible et on stocke les infos brutes dont on pourra extraire le quartier; resultat, un fichier json.\n",
    "6. Transformation : utilisation de regex (entre autres) pour extraire un quartier et rendre les données tabulaires; resultat, un fichier tsv.\n",
    "7. Nettoyage : préparation des données via pandas; resultat, un pipeline pandas pour transformer le tableau avant de le passer à sklearn.\n",
    "8. Apprentissage : Entrainement et sélection d'un prédicteur; resultat, pipeline sklearn.\n",
    "9. Conclusion : utiliser le prédicteur pour répondre à la question originale.\n",
    "\n",
    "**REMARQUE** : A chaque étape, avant de passer à la suivante, on nettoie un maximum le code pour pouvoir le reprendre facilement plus tard si le besoin s'en fait sentir. Et pour pouvoir plus facilement communiquer dessus en phase finale."
   ]
  },
  {
   "cell_type": "markdown",
   "metadata": {},
   "source": [
    "# Phase exploratoire avec sklearn"
   ]
  },
  {
   "cell_type": "markdown",
   "metadata": {},
   "source": [
    "1. Sans la colonne quartier, entrainer un opérateur de prédiction des prix, en faisant la cross-validation pour la algorithmes pertinent.\n",
    "2. Ajouter un LabelEncoder pour Quartier et faites de même.\n",
    "3. Utiliser un OneHotEncoder et faites de même.\n",
    "4. Etudier l'impact de scaler en entrée en faisant des Pipeline."
   ]
  },
  {
   "cell_type": "markdown",
   "metadata": {},
   "source": [
    "# Version Basique sans le Quartier"
   ]
  },
  {
   "cell_type": "markdown",
   "metadata": {},
   "source": [
    "On a à faire à un problème de régression. Les algorithmes que l'on va considérer sont donc\n",
    "- Régression linéaire (et les dérivées : ridge, lasso, elasticnet)\n",
    "- Plus proches voisins.\n",
    "- Processus Gaussiens.\n",
    "- Support Vecteur Machine\n",
    "- Arbres de décisions et Forêts aléatoires.\n",
    "- Réseaux de neurones. (Attention il peut y avoir besoin de beaucoup plus de données)"
   ]
  },
  {
   "cell_type": "code",
   "execution_count": 7,
   "metadata": {},
   "outputs": [],
   "source": [
    "from sklearn.linear_model import LinearRegression, Lasso, Ridge, ElasticNet\n",
    "from sklearn.neighbors import KNeighborsRegressor\n",
    "from sklearn.gaussian_process import GaussianProcessRegressor\n",
    "from sklearn.svm import SVR\n",
    "from sklearn.ensemble import RandomForestRegressor\n",
    "from sklearn.neural_network import MLPRegressor"
   ]
  },
  {
   "cell_type": "markdown",
   "metadata": {},
   "source": [
    "On aura besoin de faire une séparation du jeu de données, et de validation croisée."
   ]
  },
  {
   "cell_type": "code",
   "execution_count": 8,
   "metadata": {},
   "outputs": [],
   "source": [
    "from sklearn.model_selection import train_test_split, cross_val_score"
   ]
  },
  {
   "cell_type": "markdown",
   "metadata": {},
   "source": [
    "## A FAIRE\n",
    "\n",
    "- Séparer le jeu de données.\n",
    "- Identifier les hyperparamètres des différents algorithmes. (on consultera avec bonheur la documentation de `scikit-learn`)\n",
    "- Construire l'ensemble des estimateurs.\n",
    "- Faire la validation croisée. (On pourra aussi regarder `GridSearchCV` et `RandomSearchCV`)\n",
    "- Entrainer le prédicteur final et le valider."
   ]
  },
  {
   "cell_type": "code",
   "execution_count": 11,
   "metadata": {},
   "outputs": [
    {
     "data": {
      "text/plain": [
       "(1625, 4)"
      ]
     },
     "execution_count": 11,
     "metadata": {},
     "output_type": "execute_result"
    }
   ],
   "source": [
    "X = donnees_nettoyees[[\"Genre\", \"Neuf\", \"Surface\", \"Pieces\"]].values\n",
    "X.shape"
   ]
  },
  {
   "cell_type": "code",
   "execution_count": 12,
   "metadata": {},
   "outputs": [
    {
     "data": {
      "text/plain": [
       "(1625,)"
      ]
     },
     "execution_count": 12,
     "metadata": {},
     "output_type": "execute_result"
    }
   ],
   "source": [
    "y = donnees_nettoyees.Prix.values\n",
    "y.shape"
   ]
  },
  {
   "cell_type": "code",
   "execution_count": 13,
   "metadata": {},
   "outputs": [],
   "source": [
    "X_tr, X_te, y_tr, y_te = train_test_split(X, y, test_size=0.25, random_state=42)"
   ]
  },
  {
   "cell_type": "code",
   "execution_count": 14,
   "metadata": {},
   "outputs": [],
   "source": [
    "modeles = list()\n",
    "modeles.append(LinearRegression())"
   ]
  },
  {
   "cell_type": "code",
   "execution_count": 15,
   "metadata": {},
   "outputs": [],
   "source": [
    "for val_alpha in (1e-3, 1e-2, 1e-1, 1):\n",
    "    modeles.append(Lasso(alpha=val_alpha))"
   ]
  },
  {
   "cell_type": "code",
   "execution_count": 16,
   "metadata": {},
   "outputs": [],
   "source": [
    "for val_alpha in (1e-3, 1e-2, 1e-1, 1):\n",
    "    modeles.append(Ridge(alpha=val_alpha))"
   ]
  },
  {
   "cell_type": "code",
   "execution_count": 17,
   "metadata": {},
   "outputs": [],
   "source": [
    "for val_alpha in (1e-3, 1e-2, 1e-1, 1):\n",
    "    for val_l1 in (0.25, 0.5, 0.75):\n",
    "        modeles.append(ElasticNet(alpha=val_alpha, l1_ratio=val_l1))"
   ]
  },
  {
   "cell_type": "code",
   "execution_count": 18,
   "metadata": {},
   "outputs": [],
   "source": [
    "for nb_voisins in range(3, 10):\n",
    "    modeles.append(KNeighborsRegressor(n_neighbors=nb_voisins))"
   ]
  },
  {
   "cell_type": "code",
   "execution_count": 19,
   "metadata": {},
   "outputs": [],
   "source": [
    "modeles.append(GaussianProcessRegressor())"
   ]
  },
  {
   "cell_type": "code",
   "execution_count": 20,
   "metadata": {},
   "outputs": [],
   "source": [
    "for val_epsilon in (10 ** n for n in range(-3, 1)):\n",
    "    for val_C in (10 ** n for n in range(-3, 4)):\n",
    "        modeles.append(SVR(epsilon=val_epsilon, C=val_C))"
   ]
  },
  {
   "cell_type": "code",
   "execution_count": 21,
   "metadata": {},
   "outputs": [],
   "source": [
    "for nb_estimateurs in (50, 100, 150, 200):\n",
    "    modeles.append(RandomForestRegressor(n_estimators=nb_estimateurs))"
   ]
  },
  {
   "cell_type": "code",
   "execution_count": 22,
   "metadata": {},
   "outputs": [],
   "source": [
    "for nb_neurones in  ((100,), (50, 50), (25, 50, 25)):\n",
    "    modeles.append(MLPRegressor(hidden_layer_sizes=nb_neurones))"
   ]
  },
  {
   "cell_type": "code",
   "execution_count": 23,
   "metadata": {},
   "outputs": [
    {
     "name": "stderr",
     "output_type": "stream",
     "text": [
      "/home/vincent/miniconda3/lib/python3.8/site-packages/sklearn/neural_network/_multilayer_perceptron.py:582: ConvergenceWarning: Stochastic Optimizer: Maximum iterations (200) reached and the optimization hasn't converged yet.\n",
      "  warnings.warn(\n",
      "/home/vincent/miniconda3/lib/python3.8/site-packages/sklearn/neural_network/_multilayer_perceptron.py:582: ConvergenceWarning: Stochastic Optimizer: Maximum iterations (200) reached and the optimization hasn't converged yet.\n",
      "  warnings.warn(\n",
      "/home/vincent/miniconda3/lib/python3.8/site-packages/sklearn/neural_network/_multilayer_perceptron.py:582: ConvergenceWarning: Stochastic Optimizer: Maximum iterations (200) reached and the optimization hasn't converged yet.\n",
      "  warnings.warn(\n",
      "/home/vincent/miniconda3/lib/python3.8/site-packages/sklearn/neural_network/_multilayer_perceptron.py:582: ConvergenceWarning: Stochastic Optimizer: Maximum iterations (200) reached and the optimization hasn't converged yet.\n",
      "  warnings.warn(\n",
      "/home/vincent/miniconda3/lib/python3.8/site-packages/sklearn/neural_network/_multilayer_perceptron.py:582: ConvergenceWarning: Stochastic Optimizer: Maximum iterations (200) reached and the optimization hasn't converged yet.\n",
      "  warnings.warn(\n",
      "/home/vincent/miniconda3/lib/python3.8/site-packages/sklearn/neural_network/_multilayer_perceptron.py:582: ConvergenceWarning: Stochastic Optimizer: Maximum iterations (200) reached and the optimization hasn't converged yet.\n",
      "  warnings.warn(\n",
      "/home/vincent/miniconda3/lib/python3.8/site-packages/sklearn/neural_network/_multilayer_perceptron.py:582: ConvergenceWarning: Stochastic Optimizer: Maximum iterations (200) reached and the optimization hasn't converged yet.\n",
      "  warnings.warn(\n",
      "/home/vincent/miniconda3/lib/python3.8/site-packages/sklearn/neural_network/_multilayer_perceptron.py:582: ConvergenceWarning: Stochastic Optimizer: Maximum iterations (200) reached and the optimization hasn't converged yet.\n",
      "  warnings.warn(\n",
      "/home/vincent/miniconda3/lib/python3.8/site-packages/sklearn/neural_network/_multilayer_perceptron.py:582: ConvergenceWarning: Stochastic Optimizer: Maximum iterations (200) reached and the optimization hasn't converged yet.\n",
      "  warnings.warn(\n",
      "/home/vincent/miniconda3/lib/python3.8/site-packages/sklearn/neural_network/_multilayer_perceptron.py:582: ConvergenceWarning: Stochastic Optimizer: Maximum iterations (200) reached and the optimization hasn't converged yet.\n",
      "  warnings.warn(\n",
      "/home/vincent/miniconda3/lib/python3.8/site-packages/sklearn/neural_network/_multilayer_perceptron.py:582: ConvergenceWarning: Stochastic Optimizer: Maximum iterations (200) reached and the optimization hasn't converged yet.\n",
      "  warnings.warn(\n",
      "/home/vincent/miniconda3/lib/python3.8/site-packages/sklearn/neural_network/_multilayer_perceptron.py:582: ConvergenceWarning: Stochastic Optimizer: Maximum iterations (200) reached and the optimization hasn't converged yet.\n",
      "  warnings.warn(\n",
      "/home/vincent/miniconda3/lib/python3.8/site-packages/sklearn/neural_network/_multilayer_perceptron.py:582: ConvergenceWarning: Stochastic Optimizer: Maximum iterations (200) reached and the optimization hasn't converged yet.\n",
      "  warnings.warn(\n",
      "/home/vincent/miniconda3/lib/python3.8/site-packages/sklearn/neural_network/_multilayer_perceptron.py:582: ConvergenceWarning: Stochastic Optimizer: Maximum iterations (200) reached and the optimization hasn't converged yet.\n",
      "  warnings.warn(\n"
     ]
    }
   ],
   "source": [
    "resultats = dict()\n",
    "for modele in modeles:\n",
    "    resultats[modele] = cross_val_score(modele, X_tr, y_tr, cv=5)\n",
    "    "
   ]
  },
  {
   "cell_type": "code",
   "execution_count": 32,
   "metadata": {},
   "outputs": [
    {
     "name": "stdout",
     "output_type": "stream",
     "text": [
      "LinearRegression()                                 : 0.5617034498529294, 0.25033702218722426\n",
      "Lasso(alpha=0.001)                                 : 0.5617034564975223, 0.25033701258725877\n",
      "Lasso(alpha=0.01)                                  : 0.5617035161766017, 0.25033692639723676\n",
      "Lasso(alpha=0.1)                                   : 0.5617041156475319, 0.2503360593296961\n",
      "Lasso(alpha=1)                                     : 0.5617100959626219, 0.25032741188047275\n",
      "Ridge(alpha=0.001)                                 : 0.5617035618739867, 0.2503369646205551\n",
      "Ridge(alpha=0.01)                                  : 0.5617045699027593, 0.250336446552092\n",
      "Ridge(alpha=0.1)                                   : 0.5617146343009024, 0.2503312689881091\n",
      "Ridge(alpha=1)                                     : 0.5618137124034834, 0.2502798035195504\n",
      "ElasticNet(alpha=0.001, l1_ratio=0.25)             : 0.5617843882614041, 0.2502950975304494\n",
      "ElasticNet(alpha=0.001)                            : 0.561757619273975, 0.2503090277763024\n",
      "ElasticNet(alpha=0.001, l1_ratio=0.75)             : 0.5617306427600126, 0.25032299940995395\n",
      "ElasticNet(alpha=0.01, l1_ratio=0.25)              : 0.5624362358477817, 0.2499338739741941\n",
      "ElasticNet(alpha=0.01)                             : 0.5622098090858202, 0.250064350176951\n",
      "ElasticNet(alpha=0.01, l1_ratio=0.75)              : 0.5619662017897462, 0.2501986425673965\n",
      "ElasticNet(alpha=0.1, l1_ratio=0.25)               : 0.5655111859058128, 0.24740215594354736\n",
      "ElasticNet(alpha=0.1)                              : 0.5647631582347672, 0.24816568129686012\n",
      "ElasticNet(alpha=0.1, l1_ratio=0.75)               : 0.5636608611725937, 0.24911361106523955\n",
      "ElasticNet(alpha=1, l1_ratio=0.25)                 : 0.57465423220185, 0.24123429609721392\n",
      "ElasticNet(alpha=1)                                : 0.5721269776860196, 0.24237052925666494\n",
      "ElasticNet(alpha=1, l1_ratio=0.75)                 : 0.5687214632922741, 0.2443568645690285\n",
      "KNeighborsRegressor(n_neighbors=3)                 : 0.5919262542534434, 0.11032433851403696\n",
      "KNeighborsRegressor(n_neighbors=4)                 : 0.6257195391131324, 0.12248465702737497\n",
      "KNeighborsRegressor()                              : 0.6523008805485203, 0.11808123067192756\n",
      "KNeighborsRegressor(n_neighbors=6)                 : 0.6504092793930759, 0.11754708928462991\n",
      "KNeighborsRegressor(n_neighbors=7)                 : 0.6601243393499692, 0.12376366086326669\n",
      "KNeighborsRegressor(n_neighbors=8)                 : 0.66704545977138, 0.12308655709449538\n",
      "KNeighborsRegressor(n_neighbors=9)                 : 0.6698681258257595, 0.12258600252755245\n",
      "GaussianProcessRegressor()                         : -5300.993184473576, 3808.0842765104717\n",
      "SVR(C=0.001, epsilon=0.001)                        : -0.1108497213907051, 0.03507734592768529\n",
      "SVR(C=0.01, epsilon=0.001)                         : -0.11084374514720903, 0.035076267242984044\n",
      "SVR(C=0.1, epsilon=0.001)                          : -0.1107839843511372, 0.03506548526294792\n",
      "SVR(C=1, epsilon=0.001)                            : -0.11018654027980732, 0.03495815341753379\n",
      "SVR(C=10, epsilon=0.001)                           : -0.1042938127436793, 0.03406277141746812\n",
      "SVR(C=100, epsilon=0.001)                          : -0.04717467273582021, 0.03018713605153938\n",
      "SVR(C=1000, epsilon=0.001)                         : 0.2934961615030738, 0.1084507573802619\n",
      "SVR(C=0.001, epsilon=0.01)                         : -0.1108497213907051, 0.035077345927685404\n",
      "SVR(C=0.01, epsilon=0.01)                          : -0.11084374514720903, 0.035076267242984044\n",
      "SVR(C=0.1, epsilon=0.01)                           : -0.1107839843511372, 0.03506548526294792\n",
      "SVR(C=1, epsilon=0.01)                             : -0.11018654027980732, 0.03495815341753379\n",
      "SVR(C=10, epsilon=0.01)                            : -0.1042938127436793, 0.03406277141746812\n",
      "SVR(C=100, epsilon=0.01)                           : -0.04717466770840049, 0.0301871336672223\n",
      "SVR(C=1000, epsilon=0.01)                          : 0.2934961689234403, 0.10845075654956972\n",
      "SVR(C=0.001)                                       : -0.11084972139070506, 0.03507734592768528\n",
      "SVR(C=0.01)                                        : -0.11084374514720899, 0.03507626724298416\n",
      "SVR(C=0.1)                                         : -0.1107839843511373, 0.03506548526294792\n",
      "SVR(C=1)                                           : -0.11018654027980732, 0.03495815341753379\n",
      "SVR(C=10)                                          : -0.1042938127436793, 0.03406277141746812\n",
      "SVR(C=100)                                         : -0.04717461743423237, 0.03018710982423912\n",
      "SVR(C=1000)                                        : 0.29349624312704103, 0.10845074824267463\n",
      "SVR(C=0.001, epsilon=1)                            : -0.11084972139070506, 0.03507734592768528\n",
      "SVR(C=0.01, epsilon=1)                             : -0.11084374514720893, 0.03507626724298414\n",
      "SVR(C=0.1, epsilon=1)                              : -0.11078398435113712, 0.0350654852629479\n",
      "SVR(C=1, epsilon=1)                                : -0.11018654027980732, 0.03495815341753379\n",
      "SVR(C=10, epsilon=1)                               : -0.1042938127436793, 0.03406277141746812\n",
      "SVR(C=100, epsilon=1)                              : -0.047174114695467395, 0.03018687141317464\n",
      "SVR(C=1000, epsilon=1)                             : 0.29349698515667716, 0.10845066517638927\n",
      "RandomForestRegressor(n_estimators=50)             : 0.5898402658860598, 0.1178265489586664\n",
      "RandomForestRegressor()                            : 0.5955463707610738, 0.11906802888641219\n",
      "RandomForestRegressor(n_estimators=150)            : 0.5904455008552154, 0.11351789705321404\n",
      "RandomForestRegressor(n_estimators=200)            : 0.59188197005099, 0.12911343006270007\n",
      "MLPRegressor()                                     : -0.9294853498043292, 0.3092001334316616\n",
      "MLPRegressor(hidden_layer_sizes=(50, 50))          : 0.5514832884751917, 0.09412250475015722\n",
      "MLPRegressor(hidden_layer_sizes=(25, 50, 25))      : 0.6204592246583189, 0.17447008674964087\n"
     ]
    }
   ],
   "source": [
    "for modele, score in resultats.items():\n",
    "    print(f\"{repr(modele):50} : {score.mean()}, {score.std()}\")"
   ]
  },
  {
   "cell_type": "code",
   "execution_count": 36,
   "metadata": {},
   "outputs": [],
   "source": [
    "resultats_pour_tri = sorted([(scores.mean(), scores.std(), repr(modele)) for modele, scores in resultats.items()], reverse=True)"
   ]
  },
  {
   "cell_type": "code",
   "execution_count": 39,
   "metadata": {},
   "outputs": [
    {
     "name": "stdout",
     "output_type": "stream",
     "text": [
      "KNeighborsRegressor(n_neighbors=9)            0.67   0.12259\n",
      "KNeighborsRegressor(n_neighbors=8)            0.667   0.12309\n",
      "KNeighborsRegressor(n_neighbors=7)            0.66   0.12376\n",
      "KNeighborsRegressor()                         0.652   0.11808\n",
      "KNeighborsRegressor(n_neighbors=6)            0.65   0.11755\n",
      "KNeighborsRegressor(n_neighbors=4)            0.626   0.12248\n",
      "MLPRegressor(hidden_layer_sizes=(25, 50, 25)) 0.62   0.17447\n",
      "RandomForestRegressor()                       0.596   0.11907\n",
      "KNeighborsRegressor(n_neighbors=3)            0.592   0.11032\n",
      "RandomForestRegressor(n_estimators=200)       0.592   0.12911\n",
      "RandomForestRegressor(n_estimators=150)       0.59   0.11352\n",
      "RandomForestRegressor(n_estimators=50)        0.59   0.11783\n",
      "ElasticNet(alpha=1, l1_ratio=0.25)            0.575   0.24123\n",
      "ElasticNet(alpha=1)                           0.572   0.24237\n",
      "ElasticNet(alpha=1, l1_ratio=0.75)            0.569   0.24436\n",
      "ElasticNet(alpha=0.1, l1_ratio=0.25)          0.566   0.2474\n",
      "ElasticNet(alpha=0.1)                         0.565   0.24817\n",
      "ElasticNet(alpha=0.1, l1_ratio=0.75)          0.564   0.24911\n",
      "ElasticNet(alpha=0.01, l1_ratio=0.25)         0.562   0.24993\n",
      "ElasticNet(alpha=0.01)                        0.562   0.25006\n",
      "ElasticNet(alpha=0.01, l1_ratio=0.75)         0.562   0.2502\n",
      "Ridge(alpha=1)                                0.562   0.25028\n",
      "ElasticNet(alpha=0.001, l1_ratio=0.25)        0.562   0.2503\n",
      "ElasticNet(alpha=0.001)                       0.562   0.25031\n",
      "ElasticNet(alpha=0.001, l1_ratio=0.75)        0.562   0.25032\n",
      "Ridge(alpha=0.1)                              0.562   0.25033\n",
      "Lasso(alpha=1)                                0.562   0.25033\n",
      "Ridge(alpha=0.01)                             0.562   0.25034\n",
      "Lasso(alpha=0.1)                              0.562   0.25034\n",
      "Ridge(alpha=0.001)                            0.562   0.25034\n",
      "Lasso(alpha=0.01)                             0.562   0.25034\n",
      "Lasso(alpha=0.001)                            0.562   0.25034\n",
      "LinearRegression()                            0.562   0.25034\n",
      "MLPRegressor(hidden_layer_sizes=(50, 50))     0.551   0.094123\n",
      "SVR(C=1000, epsilon=1)                        0.293   0.10845\n",
      "SVR(C=1000)                                   0.293   0.10845\n",
      "SVR(C=1000, epsilon=0.01)                     0.293   0.10845\n",
      "SVR(C=1000, epsilon=0.001)                    0.293   0.10845\n",
      "SVR(C=100, epsilon=1)                         -0.0472   0.030187\n",
      "SVR(C=100)                                    -0.0472   0.030187\n",
      "SVR(C=100, epsilon=0.01)                      -0.0472   0.030187\n",
      "SVR(C=100, epsilon=0.001)                     -0.0472   0.030187\n",
      "SVR(C=10, epsilon=1)                          -0.104   0.034063\n",
      "SVR(C=10, epsilon=0.01)                       -0.104   0.034063\n",
      "SVR(C=10, epsilon=0.001)                      -0.104   0.034063\n",
      "SVR(C=10)                                     -0.104   0.034063\n",
      "SVR(C=1, epsilon=1)                           -0.11   0.034958\n",
      "SVR(C=1, epsilon=0.01)                        -0.11   0.034958\n",
      "SVR(C=1, epsilon=0.001)                       -0.11   0.034958\n",
      "SVR(C=1)                                      -0.11   0.034958\n",
      "SVR(C=0.1, epsilon=1)                         -0.111   0.035065\n",
      "SVR(C=0.1, epsilon=0.01)                      -0.111   0.035065\n",
      "SVR(C=0.1, epsilon=0.001)                     -0.111   0.035065\n",
      "SVR(C=0.1)                                    -0.111   0.035065\n",
      "SVR(C=0.01, epsilon=1)                        -0.111   0.035076\n",
      "SVR(C=0.01)                                   -0.111   0.035076\n",
      "SVR(C=0.01, epsilon=0.01)                     -0.111   0.035076\n",
      "SVR(C=0.01, epsilon=0.001)                    -0.111   0.035076\n",
      "SVR(C=0.001, epsilon=1)                       -0.111   0.035077\n",
      "SVR(C=0.001)                                  -0.111   0.035077\n",
      "SVR(C=0.001, epsilon=0.01)                    -0.111   0.035077\n",
      "SVR(C=0.001, epsilon=0.001)                   -0.111   0.035077\n",
      "MLPRegressor()                                -0.929   0.3092\n",
      "GaussianProcessRegressor()                    -5.3e+03   3808.1\n"
     ]
    }
   ],
   "source": [
    "for moyenne, ecart_type, nom_modele in resultats_pour_tri:\n",
    "    print(f\"{nom_modele:45} {moyenne:4.3}   {ecart_type:6.5}\")"
   ]
  },
  {
   "cell_type": "markdown",
   "metadata": {},
   "source": [
    "## Bilan:\n",
    "- Pour les voisins on a l'impression que plus on en rajoute mieux c'est, donc on pourrait tester avec plus de voisins encore.\n",
    "- Pour les processus gaussiens il faut clairement recaler les hyperparamètres.\n",
    "- Les réseaux de neurones sont partis dans le décors dans la majorité des cas, il faudrait augmenter le nombre d'itérations de la minisation. (augementer `max_iter`) \n",
    "- On a des grosses fluctuations sur les supports vecteurs là encore on peut essayer de mieux ajuster les hyperparamètres.\n",
    "- On pourra essayer de faire par type d'estimateur `RandomizedSearchCV`"
   ]
  },
  {
   "cell_type": "code",
   "execution_count": 44,
   "metadata": {},
   "outputs": [
    {
     "name": "stdout",
     "output_type": "stream",
     "text": [
      "0.0287852152260116\n",
      "0.004309237569341786\n",
      "0.051770990393546434\n",
      "0.014226773074174517\n",
      "0.10213474456607763\n",
      "0.22179298651002544\n",
      "0.06757702863943502\n",
      "0.028194414838754078\n",
      "0.22611456179233486\n",
      "0.04252295058980911\n"
     ]
    }
   ],
   "source": [
    "# Idée pour ce que fait RandomizedSearch\n",
    "import random\n",
    "\n",
    "for _ in range(10):\n",
    "    choix_param = random.expovariate(10)\n",
    "    print(choix_param)\n",
    "    modeles.append(Lasso(alpha=choix_param))"
   ]
  },
  {
   "cell_type": "markdown",
   "metadata": {},
   "source": [
    "# AVANCER SUR CES PROBLEMATIQUES POUR LA SEMAINE PROCHAINE"
   ]
  },
  {
   "cell_type": "code",
   "execution_count": null,
   "metadata": {},
   "outputs": [],
   "source": []
  }
 ],
 "metadata": {
  "kernelspec": {
   "display_name": "Python 3",
   "language": "python",
   "name": "python3"
  },
  "language_info": {
   "codemirror_mode": {
    "name": "ipython",
    "version": 3
   },
   "file_extension": ".py",
   "mimetype": "text/x-python",
   "name": "python",
   "nbconvert_exporter": "python",
   "pygments_lexer": "ipython3",
   "version": "3.8.3"
  }
 },
 "nbformat": 4,
 "nbformat_minor": 4
}
